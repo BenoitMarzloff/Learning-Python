{
 "cells": [
  {
   "cell_type": "markdown",
   "metadata": {},
   "source": [
    "# Data Science Project: Research on Profitable Types of Apps in App Store & Google Play Markets\n",
    "\n",
    "- My aim: find what apps profiles are profitable on the Apple App Store and Google's Play Store. \n",
    "- My job: data analyst for Android and IOS app maker.\n",
    "- My mission: help establish a data-driven strategy.\n",
    "- What my clients do: create free to download apps but revenue generating through in-app ads.\n",
    "- My goal: find which apps characteristics bring in the most users.\n",
    "\n",
    "\n"
   ]
  },
  {
   "cell_type": "markdown",
   "metadata": {},
   "source": [
    "### Data Source\n",
    "\n",
    "- Data I am using:\n",
    "\n",
    " a. Web-scraped Google Play data featuring about 10 000 apps, gathered in 2019\n",
    " \n",
    " b. Apple Store API-collected data, with about 7 000 apps, gathered in 2018\n",
    " \n",
    "\n",
    " \n",
    " \n",
    "- Link to data:\n",
    "\n",
    "    a. [Android](https://www.kaggle.com/lava18/google-play-store-apps)\n",
    "    \n",
    "    b. [Apple](https://www.kaggle.com/ramamet4/app-store-apple-data-set-10k-apps)\n",
    "    \n",
    "\n",
    "\n",
    "\n",
    "- Data relevance: roughly 4 million apps exist, hence it might be better to study a representative sample instead.\n",
    "\n",
    "\n"
   ]
  },
  {
   "cell_type": "markdown",
   "metadata": {},
   "source": [
    " --- \n",
    " ---\n",
    " ---"
   ]
  },
  {
   "cell_type": "markdown",
   "metadata": {},
   "source": [
    "## Data Gathering\n",
    "Opening the two data sets:"
   ]
  },
  {
   "cell_type": "code",
   "execution_count": 1,
   "metadata": {},
   "outputs": [],
   "source": [
    "from csv import reader\n",
    "\n",
    "#Google Play data import\n",
    "opened_file = open('googleplaystore.csv', encoding ='utf8')\n",
    "read_file = reader(opened_file)\n",
    "android = list(read_file)\n",
    "android_header = android[0]\n",
    "android = android[1:]\n",
    "\n",
    "#App Store data import\n",
    "opened_file = open('AppleStore.csv', encoding ='utf8')\n",
    "read_file = reader(opened_file)\n",
    "ios = list(read_file)\n",
    "ios_header = ios[0]\n",
    "ios = ios[1:]\n"
   ]
  },
  {
   "cell_type": "markdown",
   "metadata": {},
   "source": [
    "Creating a function to quickly look at specific row and colums in a readable format; with the added functionality of specifying number of rows and columns if we wish:"
   ]
  },
  {
   "cell_type": "code",
   "execution_count": 2,
   "metadata": {},
   "outputs": [],
   "source": [
    "def explore_data(dataset, start, end, rows_and_columns=False):\n",
    "    \n",
    "    dataset_slice = dataset[start:end] \n",
    "    \n",
    "    for row in dataset_slice:\n",
    "        print(row)\n",
    "        print('\\n') \n",
    "\n",
    "    if rows_and_columns:\n",
    "        print('Number of rows:', len(dataset))\n",
    "        print('Number of columns:', len(dataset[0]))"
   ]
  },
  {
   "cell_type": "markdown",
   "metadata": {},
   "source": [
    "A quick example to showcase the function, and the sucessful data import:"
   ]
  },
  {
   "cell_type": "code",
   "execution_count": 3,
   "metadata": {},
   "outputs": [
    {
     "name": "stdout",
     "output_type": "stream",
     "text": [
      "Example of Android data rows\n",
      "\n",
      "\n",
      "['Photo Editor & Candy Camera & Grid & ScrapBook', 'ART_AND_DESIGN', '4.1', '159', '19M', '10,000+', 'Free', '0', 'Everyone', 'Art & Design', 'January 7, 2018', '1.0.0', '4.0.3 and up']\n",
      "\n",
      "\n",
      "['Coloring book moana', 'ART_AND_DESIGN', '3.9', '967', '14M', '500,000+', 'Free', '0', 'Everyone', 'Art & Design;Pretend Play', 'January 15, 2018', '2.0.0', '4.0.3 and up']\n",
      "\n",
      "\n",
      "['U Launcher Lite – FREE Live Cool Themes, Hide Apps', 'ART_AND_DESIGN', '4.7', '87510', '8.7M', '5,000,000+', 'Free', '0', 'Everyone', 'Art & Design', 'August 1, 2018', '1.2.4', '4.0.3 and up']\n",
      "\n",
      "\n",
      "Number of rows: 10841\n",
      "Number of columns: 13\n",
      "\n",
      "\n",
      "Example of Apple data rows\n",
      "\n",
      "\n",
      "['284882215', 'Facebook', '389879808', 'USD', '0.0', '2974676', '212', '3.5', '3.5', '95.0', '4+', 'Social Networking', '37', '1', '29', '1']\n",
      "\n",
      "\n",
      "['389801252', 'Instagram', '113954816', 'USD', '0.0', '2161558', '1289', '4.5', '4.0', '10.23', '12+', 'Photo & Video', '37', '0', '29', '1']\n",
      "\n",
      "\n",
      "['529479190', 'Clash of Clans', '116476928', 'USD', '0.0', '2130805', '579', '4.5', '4.5', '9.24.12', '9+', 'Games', '38', '5', '18', '1']\n",
      "\n",
      "\n",
      "Number of rows: 7197\n",
      "Number of columns: 16\n"
     ]
    }
   ],
   "source": [
    "print('Example of Android data rows')\n",
    "print('\\n')\n",
    "explore_data(android,0,3, True)  #number of rows does not take into account the header!\n",
    "\n",
    "print('\\n')\n",
    "\n",
    "print('Example of Apple data rows')\n",
    "print('\\n')\n",
    "explore_data(ios,0,3,True)\n",
    "\n"
   ]
  },
  {
   "cell_type": "markdown",
   "metadata": {},
   "source": [
    "What the data headers look like:"
   ]
  },
  {
   "cell_type": "code",
   "execution_count": 4,
   "metadata": {},
   "outputs": [
    {
     "name": "stdout",
     "output_type": "stream",
     "text": [
      "['App', 'Category', 'Rating', 'Reviews', 'Size', 'Installs', 'Type', 'Price', 'Content Rating', 'Genres', 'Last Updated', 'Current Ver', 'Android Ver']\n",
      "\n",
      "\n",
      "['id', 'track_name', 'size_bytes', 'currency', 'price', 'rating_count_tot', 'rating_count_ver', 'user_rating', 'user_rating_ver', 'ver', 'cont_rating', 'prime_genre', 'sup_devices.num', 'ipadSc_urls.num', 'lang.num', 'vpp_lic']\n"
     ]
    }
   ],
   "source": [
    "print(android_header) #android[0] and ios[0] also work\n",
    "print('\\n')\n",
    "print(ios_header)"
   ]
  },
  {
   "cell_type": "markdown",
   "metadata": {},
   "source": [
    "The IOS header may look harder to read but it is the same header content and order as the Android one. \n",
    "***Except*** for the fact that the app name on Apple's data is row 2, which will slighlty impact our code down the road."
   ]
  },
  {
   "cell_type": "markdown",
   "metadata": {},
   "source": [
    "---\n",
    "---\n",
    "---"
   ]
  },
  {
   "cell_type": "markdown",
   "metadata": {},
   "source": [
    "## Data Cleaning\n",
    "\n",
    "### Duplicate Processing\n",
    "\n",
    "\n",
    "On the discussion boards of the data source, a few errors have been raised. For example [row 10472 on the Android data set has a misplaced column](https://www.kaggle.com/lava18/google-play-store-apps/discussion/66015), rendering it's analysis flawed."
   ]
  },
  {
   "cell_type": "code",
   "execution_count": 5,
   "metadata": {},
   "outputs": [
    {
     "name": "stdout",
     "output_type": "stream",
     "text": [
      "['Xposed Wi-Fi-Pwd', 'PERSONALIZATION', '3.5', '1042', '404k', '100,000+', 'Free', '0', 'Everyone', 'Personalization', 'August 5, 2014', '3.0.0', '4.0.3 and up']\n",
      "\n",
      "\n",
      "['Life Made WI-Fi Touchscreen Photo Frame', '1.9', '19', '3.0M', '1,000+', 'Free', '0', 'Everyone', '', 'February 11, 2018', '1.0.19', '4.0 and up']\n",
      "\n",
      "\n"
     ]
    }
   ],
   "source": [
    "explore_data(android, 10471, 10473)"
   ]
  },
  {
   "cell_type": "markdown",
   "metadata": {},
   "source": [
    "Indeed, we can see that the second entry does not feature properly its second element which is supposed to be its `Category` tag. We can also notice the shift in its 9th entry which is simply a blank string `''`, which is normally the `Genre` tag.\n",
    "\n",
    "Hence we simply delete that data entry:"
   ]
  },
  {
   "cell_type": "code",
   "execution_count": 6,
   "metadata": {},
   "outputs": [],
   "source": [
    "del android[10472]"
   ]
  },
  {
   "cell_type": "markdown",
   "metadata": {},
   "source": [
    "The two discussion boards of these data harvests do not indicate any other column-shift errors. The data set is small enough and popular enough for us to trust this conclusion."
   ]
  },
  {
   "cell_type": "markdown",
   "metadata": {},
   "source": [
    "What about duplicate data? With over 17 000 apps listed they surely exist. Hence we can check for repeating app names. Just to cite [another discussion board](https://www.kaggle.com/lava18/google-play-store-apps/discussion/82616), a few apps amongst Instagram have several entries:"
   ]
  },
  {
   "cell_type": "code",
   "execution_count": 7,
   "metadata": {},
   "outputs": [
    {
     "name": "stdout",
     "output_type": "stream",
     "text": [
      "[['Instagram', 'SOCIAL', '4.5', '66577313', 'Varies with device', '1,000,000,000+', 'Free', '0', 'Teen', 'Social', 'July 31, 2018', 'Varies with device', 'Varies with device']]\n",
      "\n",
      "\n",
      "[['Instagram', 'SOCIAL', '4.5', '66577446', 'Varies with device', '1,000,000,000+', 'Free', '0', 'Teen', 'Social', 'July 31, 2018', 'Varies with device', 'Varies with device']]\n",
      "\n",
      "\n",
      "[['Instagram', 'SOCIAL', '4.5', '66577313', 'Varies with device', '1,000,000,000+', 'Free', '0', 'Teen', 'Social', 'July 31, 2018', 'Varies with device', 'Varies with device']]\n",
      "\n",
      "\n",
      "[['Instagram', 'SOCIAL', '4.5', '66509917', 'Varies with device', '1,000,000,000+', 'Free', '0', 'Teen', 'Social', 'July 31, 2018', 'Varies with device', 'Varies with device']]\n",
      "\n",
      "\n"
     ]
    }
   ],
   "source": [
    "for i in android:   #`i` refers to a row\n",
    "    \n",
    "    if i[0]=='Instagram':\n",
    "        print([i]) #print row whose index 0 (first column, the one featuring app names) is exactly 'Instagram'\n",
    "        print('\\n') #empty line between generated outputs\n",
    "        \n",
    "    \n",
    "    "
   ]
  },
  {
   "cell_type": "markdown",
   "metadata": {},
   "source": [
    "Hence there are indeed 4 entries for Instagram on Android, and that is merely an example. However are these entries **identical?** \n",
    "A sharp eye will notice that the 4th column of those lists, aka the number of reviews, is slightly different. More on that specific point soon.\n",
    "\n",
    "Now we need to formally identify all the other duplicates for both datasets."
   ]
  },
  {
   "cell_type": "code",
   "execution_count": 8,
   "metadata": {},
   "outputs": [
    {
     "name": "stdout",
     "output_type": "stream",
     "text": [
      "There are 1181 duplicates in the Android dataset\n"
     ]
    }
   ],
   "source": [
    "android_dupes=[] #Generating empty lists that will be basis of sorting\n",
    "android_uniques=[]\n",
    "\n",
    "for i in android: #go through all the apps (in this case the rows of the android data set) once again this specific\n",
    "                  #... list does not include the header\n",
    "    \n",
    "    name = i[0]\n",
    "    \n",
    "    if name in android_uniques:   #put specific rows in duplicate basket if their exact name already exists\n",
    "        android_dupes.append(name)\n",
    "        \n",
    "    else:         # triggers if it's the first time the name shows up, hence a non-duplicate entry, add it to unique\n",
    "                  #... pile\n",
    "        android_uniques.append(name)\n",
    "\n",
    "print('There are '+str(len(android_dupes))+' duplicates in the Android dataset')"
   ]
  },
  {
   "cell_type": "markdown",
   "metadata": {},
   "source": [
    "Now doing the same for the IOS dataset:"
   ]
  },
  {
   "cell_type": "code",
   "execution_count": 9,
   "metadata": {},
   "outputs": [
    {
     "name": "stdout",
     "output_type": "stream",
     "text": [
      "There are 0 duplicates in the Apple dataset\n"
     ]
    }
   ],
   "source": [
    "ios_dupes=[] #Generating empty lists that will be basis of sorting\n",
    "ios_uniques=[]\n",
    "\n",
    "for i in ios: #go through all the apps (in this case the rows of the android data set)\n",
    "    \n",
    "    name = i[0]\n",
    "    \n",
    "    if name in ios_uniques:   #put specific rows in duplicate basket if their exact name already exists\n",
    "        ios_dupes.append(name)\n",
    "   \n",
    "    else:         # triggers if it's the first time the name shows up, hence a non-duplicate entry\n",
    "        ios_uniques.append(name)\n",
    "\n",
    "print('There are '+str(len(ios_dupes))+' duplicates in the Apple dataset')"
   ]
  },
  {
   "cell_type": "markdown",
   "metadata": {},
   "source": [
    "The duplicates have been identified, and are stored in a list, which is needed to filter them out later.\n",
    "\n",
    "\n",
    "As we can see from Instagram's example above, what differs is the number of ratings. As the data was being scrapped, popular apps such as Instagram had its number of reviews change, and this is why it was considered another entry. It is, for the sake of data analysis, more relavant to chose the most recent data points. This is why it is logical to keep the most recent entry, aka the one with the most reviews. This is what the program below does. \n",
    "\n",
    "*Note: the original entries (with the least amount of reviews) will be deleted all the time, as it can be reasonably assumed that they were made before the duplicates. Apps may have their number of reviews reduced during the scrapping due to them being moderated as being fake for example, but we'll consider this a rare scenario.*"
   ]
  },
  {
   "cell_type": "code",
   "execution_count": 10,
   "metadata": {},
   "outputs": [
    {
     "name": "stdout",
     "output_type": "stream",
     "text": [
      "Adjusting for duplicates, there are 9659 apps in the Android dataset\n"
     ]
    }
   ],
   "source": [
    "good_dupe = {}   #dictionary of all the duplicates featuring the highest amount of reviews amongst other duplicate entries.\n",
    "\n",
    "for i in android:   #cycling through the Android dataset (minus its header)\n",
    "    \n",
    "    app_name = i[0]      #identifying the app name and review count data points to consider\n",
    "    rev_count = float(i[3])\n",
    "    \n",
    "    if app_name in good_dupe and good_dupe[app_name] < rev_count:   #if a duplicate is found but I now have a higher review count to show, \n",
    "                                                                    #...I will overwrite the lower review count with the higher one.  \n",
    "        good_dupe[app_name] = rev_count\n",
    "    \n",
    "    elif app_name not in good_dupe:   # If not a duplicate, goes to the \"good\" app masterlist\n",
    "        good_dupe[app_name] = rev_count\n",
    "        \n",
    "print('Adjusting for duplicates, there are ' + str(len(good_dupe)) + ' apps in the Android dataset')"
   ]
  },
  {
   "cell_type": "markdown",
   "metadata": {},
   "source": [
    "We previously found 1181 duplicates in the Android dataset. In total there are 10841 rows so 10840 apps (and the header) in the Android dataset as previously seen.\n",
    "\n",
    "10840 - 1181 = 9659 apps\n",
    "\n",
    "Thus we sucessfully identified all of the Android duplicates using the aforementioned discrimination logic. \n",
    "\n",
    "It was seen that Apple's dataset did not have any duplicates.\n",
    "\n",
    "From now on, we need to only use our non-dupe list generated above(`good_dupe`) as our Android 'masterlist':"
   ]
  },
  {
   "cell_type": "code",
   "execution_count": 11,
   "metadata": {},
   "outputs": [
    {
     "name": "stdout",
     "output_type": "stream",
     "text": [
      "The new masterlist features 9659 apps.\n",
      "If it features, after program execution, 9659 apps, then the cleaning is sucessful.\n"
     ]
    }
   ],
   "source": [
    "android_clean=[]        # the new masterlist\n",
    "whats_in_it=[]          # tracker of what apps are already in masterlist\n",
    "\n",
    "for i in android:      #cycling through all the apps\n",
    "    \n",
    "    app_name = i[0]      #identifying the app name and review count data points to consider\n",
    "    rev_count = float(i[3])  \n",
    "    \n",
    "    if (good_dupe[app_name] == rev_count) and app_name not in whats_in_it:  #if we face the duplicate with higher review count AND \n",
    "                                                                            #...it is the first of the dupes of that app encountered\n",
    "        android_clean.append(i)                #add it to the master list\n",
    "        whats_in_it.append(app_name)           #add it to the masterlist tracker\n",
    "\n",
    "    #nothing technically happens to the duplicates that are not the \"good\" duplicates, but that's made by design!\n",
    "    #if an app is already on the masterlist, but not with the highest possible review count (if it has duplicates), it does not\n",
    "    #matter as it will be overridden by the \"good duplicate\" either way.\n",
    " \n",
    "print('The new masterlist features ' + str(len(android_clean)) + ' apps.' +'\\n' + 'If it features, after program execution, '\n",
    "      +'9659 apps, then the cleaning is sucessful.')\n",
    "        \n",
    "    \n",
    "    \n",
    "    "
   ]
  },
  {
   "cell_type": "markdown",
   "metadata": {},
   "source": [
    "A quick check of the state of the masterlist, `android_clean`, header included, is due.\n",
    "We can re-use the previously made `explore_data()` function"
   ]
  },
  {
   "cell_type": "code",
   "execution_count": 12,
   "metadata": {},
   "outputs": [
    {
     "name": "stdout",
     "output_type": "stream",
     "text": [
      "['App', 'Category', 'Rating', 'Reviews', 'Size', 'Installs', 'Type', 'Price', 'Content Rating', 'Genres', 'Last Updated', 'Current Ver', 'Android Ver']\n",
      "\n",
      "\n",
      "['Photo Editor & Candy Camera & Grid & ScrapBook', 'ART_AND_DESIGN', '4.1', '159', '19M', '10,000+', 'Free', '0', 'Everyone', 'Art & Design', 'January 7, 2018', '1.0.0', '4.0.3 and up']\n",
      "\n",
      "\n",
      "['U Launcher Lite – FREE Live Cool Themes, Hide Apps', 'ART_AND_DESIGN', '4.7', '87510', '8.7M', '5,000,000+', 'Free', '0', 'Everyone', 'Art & Design', 'August 1, 2018', '1.2.4', '4.0.3 and up']\n",
      "\n",
      "\n",
      "['Sketch - Draw & Paint', 'ART_AND_DESIGN', '4.5', '215644', '25M', '50,000,000+', 'Free', '0', 'Teen', 'Art & Design', 'June 8, 2018', 'Varies with device', '4.2 and up']\n",
      "\n",
      "\n",
      "['Pixel Draw - Number Art Coloring Book', 'ART_AND_DESIGN', '4.3', '967', '2.8M', '100,000+', 'Free', '0', 'Everyone', 'Art & Design;Creativity', 'June 20, 2018', '1.1', '4.4 and up']\n",
      "\n",
      "\n",
      "Number of rows: 9659\n",
      "Number of columns: 13\n"
     ]
    }
   ],
   "source": [
    "print(android_header)\n",
    "print('\\n')\n",
    "explore_data(android_clean,0,4,True)    #number of rows once again does not take into account the header!"
   ]
  },
  {
   "cell_type": "markdown",
   "metadata": {},
   "source": [
    "We also have the same amount of columns as the original dataset!\n",
    "\n",
    "Once again no adjustments of this kind needed for the Apple dataset."
   ]
  },
  {
   "cell_type": "markdown",
   "metadata": {},
   "source": [
    "### Non-English Apps Processing\n",
    "\n",
    "We need to filter out non-English based apps, as our client cannot create similar apps **and** they do not target that audience, thus they are irrelevant to our analysis.\n",
    "\n",
    "Upon brief inspection of the datasets, here are examples of apps we wish to filter out:"
   ]
  },
  {
   "cell_type": "code",
   "execution_count": 13,
   "metadata": {},
   "outputs": [
    {
     "name": "stdout",
     "output_type": "stream",
     "text": [
      "On Apple's dataset:\n",
      "\n",
      "\n",
      "爱奇艺PPS -《欢乐颂2》电视剧热播\n",
      "酷我音乐HD-无损在线播放\n",
      "高德地图（精准专业的手机地图）\n",
      "\n",
      "\n",
      "On Android's dataset:\n",
      "\n",
      "\n",
      "中国語 AQリスニング\n",
      "لعبة تقدر تربح DZ\n"
     ]
    }
   ],
   "source": [
    "print('''On Apple's dataset:''')\n",
    "print('\\n')\n",
    "print(ios[813][1])\n",
    "print(ios[2372][1])\n",
    "print(ios[2563][1])\n",
    "\n",
    "print('\\n')\n",
    "\n",
    "print('''On Android's dataset:''')\n",
    "print('\\n')\n",
    "print(android_clean[4412][0])\n",
    "print(android_clean[7940][0])"
   ]
  },
  {
   "cell_type": "markdown",
   "metadata": {},
   "source": [
    "Note: this sample is only for illustrative purposes. Most of the non-English apps on those datasets are Chinese! \n",
    "\n",
    "We now need a function to recognize if a given string (text) input is English or not. \n",
    "\n",
    "In Python letters and characters are coded according to the ASCII format, which essentially assigns them to a number. If that number is above 127, then the character is not English. For example the letter `é` has an ASCII value of 130.\n"
   ]
  },
  {
   "cell_type": "code",
   "execution_count": 14,
   "metadata": {},
   "outputs": [
    {
     "name": "stdout",
     "output_type": "stream",
     "text": [
      "True\n",
      "False\n",
      "\n",
      "\n",
      "The relevant characters are: \n",
      "\n",
      "\n",
      "[' ', '!', '\"', '#', '$', '%', '&', \"'\", '(', ')', '*', '+', ',', '-', '.', '/', '0', '1', '2', '3', '4', '5', '6', '7', '8', '9', ':', ';', '<', '=', '>', '?', '@', 'A', 'B', 'C', 'D', 'E', 'F', 'G', 'H', 'I', 'J', 'K', 'L', 'M', 'N', 'O', 'P', 'Q', 'R', 'S', 'T', 'U', 'V', 'W', 'X', 'Y', 'Z', '[', '\\\\', ']', '^', '_', '`', 'a', 'b', 'c', 'd', 'e', 'f', 'g', 'h', 'i', 'j', 'k', 'l', 'm', 'n', 'o', 'p', 'q', 'r', 's', 't', 'u', 'v', 'w', 'x', 'y', 'z', '{', '|', '}', '~']\n"
     ]
    }
   ],
   "source": [
    "def true_means_english_old(character) :   #input a string\n",
    "\n",
    "    for i in str(character):    #check each character (letter or number or sign) in a string (text)\n",
    "        if ord(i) < 127:        #ord refers to the ASCII number of the character\n",
    "            return True\n",
    "        else:\n",
    "            return False        #sets non English text to the `False` value\n",
    "\n",
    "print(true_means_english_old('Instagram'))\n",
    "print(true_means_english_old('爱奇艺PPS -《欢乐颂2》电视剧热播'))\n",
    "\n",
    "print('\\n')\n",
    "\n",
    "list_ascii=[]\n",
    "                                #quick illustration of what characters we classify as English values\n",
    "for i in range(32,127):         #ASCII below 32 are not relevant in this case, the first value, aka 32 is a space\n",
    "    list_ascii.append(chr(i))   #add it to the list \n",
    "    \n",
    "print('The relevant characters are: ')\n",
    "print('\\n')\n",
    "print(list_ascii)\n",
    "\n"
   ]
  },
  {
   "cell_type": "markdown",
   "metadata": {},
   "source": [
    "We can see that relevant characters above do not consider characters such as emojis, which feature outside of this scope, this is why a sligh modification needs to be done to the code, to include *exotic* characters such as `😜` or `™` as valid.\n",
    "\n",
    "A workaround is to keep the logic of the function above, but saying that we need 4 non conventional characters for the app to be considered non-english. "
   ]
  },
  {
   "cell_type": "code",
   "execution_count": 15,
   "metadata": {},
   "outputs": [
    {
     "name": "stdout",
     "output_type": "stream",
     "text": [
      "True\n",
      "True\n"
     ]
    }
   ],
   "source": [
    "def true_means_english_new(character):   \n",
    "    \n",
    "    strike=0\n",
    "\n",
    "    for i in character:\n",
    "        \n",
    "        if ord(i) > 127:\n",
    "            strike += 1\n",
    "            \n",
    "    if strike > 3:         #Sets a 4 strike system before considering an app not English!\n",
    "        return False\n",
    "    else: \n",
    "        return True\n",
    "    \n",
    "            \n",
    "print(true_means_english_new('NBA JAM by EA SPORTS™'))\n",
    "print(true_means_english_new('Vkids Español: Spanish for kids'))"
   ]
  },
  {
   "cell_type": "markdown",
   "metadata": {},
   "source": [
    "We might lose a few relevant apps over this arbitrary 4 limit but it's a fair compromise for our analysis.\n",
    "\n",
    "Now that the function is generated, we need to use it on our dataset to generate a list of non-English named apps."
   ]
  },
  {
   "cell_type": "code",
   "execution_count": 16,
   "metadata": {},
   "outputs": [
    {
     "name": "stdout",
     "output_type": "stream",
     "text": [
      "List of non-English apps found: \n",
      "\n",
      "\n",
      "['Flame - درب عقلك يوميا', 'သိင်္ Astrology - Min Thein Kha BayDin', 'РИА Новости', 'صور حرف H', 'L.POINT - 엘포인트 [ 포인트, 멤버십, 적립, 사용, 모바일 카드, 쿠폰, 롯데]', 'RMEduS - 음성인식을 활용한 R 프로그래밍 실습 시스템', 'AJ렌터카 법인 카셰어링', 'Al Quran Free - القرآن (Islam)', '中国語 AQリスニング', '日本AV历史', 'Ay Yıldız Duvar Kağıtları', 'বাংলা টিভি প্রো BD Bangla TV', 'Cъновник BG', 'CSCS BG (в български)', '뽕티비 - 개인방송, 인터넷방송, BJ방송', 'BL 女性向け恋愛ゲーム◆俺プリクロス', 'SecondSecret ‐「恋を読む」BLノベルゲーム‐', 'BL 女性向け恋愛ゲーム◆ごくメン', 'あなカレ【BL】無料ゲーム', '감성학원 BL 첫사랑', 'BQ-መጽሐፍ ቅዱሳዊ ጥያቄዎች', 'BS Calendar / Patro / पात्रो', 'Vip视频免费看-BT磁力搜索', 'Билеты ПДД CD 2019 PRO', 'Offline Jízdní řády CG Transit', 'Bonjour 2017 Abidjan CI ❤❤❤❤❤', 'CK 初一 十五', 'الفاتحون Conquerors', 'DG ग्राम / Digital Gram Panchayat', 'DM הפקות', 'DW فارسی By dw-arab.com', 'لعبة تقدر تربح DZ', 'বাংলাflix', 'RPG ブレイジング ソウルズ アクセレイト', '英漢字典 EC Dictionary', 'ECナビ×シュフー', 'أحداث وحقائق | خبر عاجل في اخبار العالم', 'EG SIM CARD (EGSIMCARD, 이지심카드)', 'パーリーゲイツ公式通販｜EJ STYLE（イージェイスタイル）', 'FAHREDDİN er-RÂZİ TEFSİRİ', \"I'm Rich/Eu sou Rico/أنا غني/我很有錢\", 'AÖF Ev İdaresi 1. Sınıf', 'Ey Sey Storytime រឿងនិទានតាឥសី', '哈哈姆特不EY', 'FP Разбитый дисплей']\n",
      "\n",
      "\n",
      "A snippet of the corrected Android database: \n",
      "\n",
      "\n",
      "['Photo Editor & Candy Camera & Grid & ScrapBook', 'ART_AND_DESIGN', '4.1', '159', '19M', '10,000+', 'Free', '0', 'Everyone', 'Art & Design', 'January 7, 2018', '1.0.0', '4.0.3 and up']\n",
      "\n",
      "\n",
      "['U Launcher Lite – FREE Live Cool Themes, Hide Apps', 'ART_AND_DESIGN', '4.7', '87510', '8.7M', '5,000,000+', 'Free', '0', 'Everyone', 'Art & Design', 'August 1, 2018', '1.2.4', '4.0.3 and up']\n",
      "\n",
      "\n",
      "['Sketch - Draw & Paint', 'ART_AND_DESIGN', '4.5', '215644', '25M', '50,000,000+', 'Free', '0', 'Teen', 'Art & Design', 'June 8, 2018', 'Varies with device', '4.2 and up']\n",
      "\n",
      "\n",
      "Number of rows: 9614\n",
      "Number of columns: 13\n"
     ]
    }
   ],
   "source": [
    "english_android=[]\n",
    "not_english_android=[]\n",
    "\n",
    "for i in android_clean:\n",
    "    \n",
    "    name = i[0]\n",
    "    \n",
    "    if true_means_english_new(name):\n",
    "        english_android.append(i)\n",
    "        \n",
    "    elif true_means_english_new(name)== False :\n",
    "        not_english_android.append(i)\n",
    " \n",
    "def Extract(lst):\n",
    "    return [item[0] for item in lst]\n",
    "\n",
    "print('List of non-English apps found: ')\n",
    "print('\\n')\n",
    "print(Extract(not_english_android))\n",
    "\n",
    "print('\\n')\n",
    "print('A snippet of the corrected Android database: ')\n",
    "print('\\n')\n",
    "explore_data(english_android,0,3,True)\n",
    "        \n",
    "        "
   ]
  },
  {
   "cell_type": "markdown",
   "metadata": {},
   "source": [
    "The `Extract` function is one made to receive only the name of the app (the first element of a list in a list of lists) and not the whole row, and was written by [Geeksforgeeks.com](https://www.geeksforgeeks.org/python-get-first-element-of-each-sublist/).\n",
    "\n",
    "We now do the same for our IOS dataset:"
   ]
  },
  {
   "cell_type": "code",
   "execution_count": 17,
   "metadata": {},
   "outputs": [
    {
     "name": "stdout",
     "output_type": "stream",
     "text": [
      "List of non-English apps found, SCROLL DOWN FOR OTHER DATA: \n",
      "\n",
      "\n",
      "['爱奇艺PPS -《欢乐颂2》电视剧热播', '聚力视频HD-人民的名义,跨界歌王全网热播', '优酷视频', '网易新闻 - 精选好内容，算出你的兴趣', '淘宝 - 随时随地，想淘就淘', '搜狐视频HD-欢乐颂2 全网首播', '阴阳师-全区互通现世集结', '百度贴吧-全球最大兴趣交友社区', '百度网盘', '爱奇艺HD -《欢乐颂2》电视剧热播', '乐视视频HD-白鹿原,欢乐颂,奔跑吧全网热播', '万年历-值得信赖的日历黄历查询工具', '新浪新闻-阅读最新时事热门头条资讯视频', '喜马拉雅FM（听书社区）电台有声小说相声英语', '央视影音-海量央视内容高清直播', '腾讯视频HD-楚乔传,明日之子6月全网首播', '手机百度 - 百度一下你就得到', '百度视频HD-高清电视剧、电影在线观看神器', 'MOMO陌陌-开启视频社交,用直播分享生活', 'QQ 浏览器-搜新闻、选小说漫画、看视频', '同花顺-炒股、股票', '聚力视频-蓝光电视剧电影在线热播', '快看漫画', '乐视视频-白鹿原,欢乐颂,奔跑吧全网热播', '酷我音乐HD-无损在线播放', '随手记（专业版）-好用的记账理财工具', 'Dictionary ( قاموس عربي / انجليزي + ودجيت الترجمة)', '滴滴出行', '高德地图（精准专业的手机地图）', '百度HD-极速安全浏览器', '美丽说-潮流穿搭快人一步', '百度地图-智能的手机导航，公交地铁出行必备', 'Majiang Mahjong（单机+川麻+二人+武汉+国标）', '土豆视频HD—高清影视综艺视频播放器', '360手机卫士-超安全的来电防骚扰助手', 'QQ浏览器HD-极速搜索浏览器', '搜狗输入法-Sogou Keyboard', '百度网盘 HD', '大众点评-发现品质生活', '讯飞输入法-智能语音输入和表情斗图神器', '美柚 - 女生助手', '爱奇艺 - 电视剧电影综艺娱乐视频播放器', '搜狐视频-欢乐颂2 全网首播', '百度地图HD', 'QQ同步助手-新机一键换机必备工具', 'QQ音乐-来这里“发现・音乐”', '腾讯新闻-头条新闻热点资讯掌上阅读软件', '土豆（短视频分享平台）', '风行视频+ HD - 电影电视剧体育视频播放器', '仙劍奇俠傳5 - 劍傲丹楓', 'YY- 小全民手机直播交友软件', '腾讯视频-欢乐颂2全网首播', '中华万年历-2亿用户首选的日历软件', '央视影音HD-海量央视内容高清直播', '蘑菇街-网红直播搭配的购物特卖平台', 'Keep - 移动健身教练 自由运动场', '美团 - 吃喝玩乐全都有', '百度贴吧HD', '腾讯手机管家-拦截骚扰电话的QQ安全助手', 'Color•多彩手帐', '饿了么外卖-大牌美食，折扣热卖', '宝宝树孕育-火爆的备孕怀孕育儿社区', '懂球帝 - 足球迷必备神器', '今日头条 - 热点新闻资讯、娱乐视频', '天猫-购物', '沪江开心词场-英语、日语、韩语学习助手', '倩女幽魂-周年庆资料片开启新主角剧情', '欢乐斗地主•腾讯', '百度糯米-电影,美食团购', '搜狐新闻—新闻热点资讯掌上阅读软件', '手机京东-首次购买可领取188元优惠券', 'QQ游戏大厅HD', '赶集网-工作生活啥都有！', '携程旅行-酒店、机票、火车票预订助手', '腾讯微云-安全备份共享文件和照片', 'QQ安全中心', '招商银行', '去哪儿旅行-预订机票酒店火车票特价旅游自由行', '暴风影音-BaoFeng Player', '闲鱼-让你的闲置游起来', '内涵段子 - 精选搞笑图片、视频', '斗鱼--王者大神在直播', 'VVebo - 微博客户端', '中国建设银行', '中国联通手机营业厅客户端(官方版)', '电信营业厅', '随手记专业版 for  iPad', '美团外卖-甜点生鲜等零食配送，鲜花蛋糕准时必达', '驾考宝典-2017最新考驾照驾校学车驾考通', '欧路英语词典 Eudic 增强版', '腾讯欢乐麻将全集', '宜搜小说-亿万网友共享高品质阅读离线追更', '夢王国と眠れる100人の王子様', '航旅纵横PRO-官方航班动态、手机值机、机票', '鬼畜-一亿人都在用的聊天必备神器!', '中国银行手机银行', 'QQ阅读-拥有海量原著小说的电子书阅读器', '武林群侠传—经典单机武侠RPG', '咕咚-你的跑步骑行运动社区', '中国工商银行', '一骑当千OL-万人国战（Legend Of Warrior）', '百度外卖 -美食订餐品质生活，超市水果安全到家', '腾讯微云HD-安全备份共享文件和照片', '飞常准Pro-全球航班查询机票酒店预订', '车轮查违章-2017全国车辆违章查询助手', '今日头条(专业版) - 推荐热点新闻资讯、娱乐视频', '机票、火车票、汽车票预定助手 for 铁路12306', '招商银行信用卡掌上生活', '百度手机卫士－wifi管家照片管理防骚扰安全助手', '汽车之家-提供新车,二手车报价及资讯', 'クックパッド - No.1料理レシピ検索アプリ', '我想有个家', '易到 - 低价专车,高品质出行', '球球大作战', '仙劍奇俠傳1 DOS懷舊版', '作业帮-小初高学生拍照答疑学习辅导助手', '猫眼电影 - 一网打尽好电影', '唯品会-欢乐颂2独家电商 同款热卖', '返利-专注网购省钱的APP', 'YY HD-和美女帅哥主播视频聊天的直播软件', '一起作业学生端-中小学霸口袋学习辅导助手', '搜房网房天下-新房二手房租房交易平台', '更加令人感动的养成游戏「昭和杂货店物语２」', '金庸群侠传—全自由单机武侠RPG', '去哪儿旅行HD-总有你要的低价', '安居客-二手房、新房、租房的找房助手', '秒拍-超火爆短视频分享平台', 'WiFi钥匙—万能wifi密码钥匙', '中国移动手机营业厅(中国移动官方)', 'same - 就是聊得来', '腾讯新闻HD-最资深的阅读软件', '唯品会 HD 全球精选，正品特卖', '同花顺至尊版', '小咖秀-全民视频才艺直播社区', '当当-正品秒杀，首单立减5元', '1号店-全球超市 轻松到家', 'comico/人気オリジナル漫画が毎日更新！/コミコ', '格斗学院-社团争霸圣装崛起，热血高校一触即发', 'おそ松さんのへそくりウォーズ\\u3000〜ニートの攻防〜', '虫虫大作战-经典休闲蛇蛇', '农行掌上银行', '同程旅游-中国汽车票自助周边游海外跟团订票', '魔窟-无尽的地下城', '無制限で人気音楽聴き放題！ - Music Bank（ミュージックバンク）', '途牛旅游-订机票酒店，查旅行景点门票', 'ナビタイムの乗り換え案内 - 遅延情報やバス時刻表を案内するアプリ', '51信用卡管家', '少年西游记－西游卡牌王者之作', '北京浮生记', '聚美优品-新用户专享160元现金券', '诸神战纪IV:战神崛起', '洋码头—正品保证海外买手带你全球购洋货', '开心消消乐®', '苏宁易购-新人专享大礼包', '熊猫直播-王者大神主播带你荣耀开黑', '虎牙直播-热门高清游戏互动直播平台', 'タップル誕生 - 出会いアプリで趣味から恋活・婚活', '浪漫庄园(自由创造你的梦想)', '58同城-招聘找工作兼职租房软件', '京东金融-【618周年庆】新人领千元好礼', '广东移动手机营业厅-话费流量一手掌握，专属优惠定期发放', '幻獣契約クリプトラクト', 'GANMA! - 漫画が制限ナシで読み放題のマンガアプリ', '小猿搜题-中小学拍照搜题作业帮手', '驴妈妈旅游-订景点门票机票火车票特价酒店', '单机群侠传-金庸群侠传口袋版', '淘票票 - 原淘宝电影，选座购票必备', '腾讯体育-NBA全网独播', 'AbemaTV-インターネットテレビ局', 'ダイエットが続く！人気のカロリー・体重管理アプリ 「もぐたん」', 'kurashiru [クラシル] - 料理レシピ動画数No.1', '私のヒモ男～イケメン拾いました～恋愛・放置ゲーム', '高德地图HD', '梦幻西游互通版', '去哪儿攻略—查游记旅游攻略，订机票酒店', '乐视体育—英超欧冠F1高清直播', '史上最强的大脑4-超级王者(时代永恒小强)', '网易考拉海购—新人免费领取1000元优惠券', '她社区-只有女生的社区！', '转转-更专业的二手闲置交易平台', '51信用卡管家Pro', '上海移动掌上营业厅', '全民炸金花-首款含电玩城百家乐的棋牌游戏', '【2017年の運勢決定版】ゲッターズ飯田の占い', '虎牙直播HD-热门高清游戏互动直播平台', '单机三国志2-铜雀台资料片 天天都玩', '洋菓子店ローズ ～ほのぼの再建記～', '12オーディンズ - 王道RPG', 'かなもじ', '达令全球好货－正品免税，带你购全球', '三国杀传奇-神将觉醒', '花椒直播-高清美颜直播互动平台', '全民夺宝-时尚购潮流商品平台', '特种部队-跨服竞技TCG军事策略游戏', '途家-全球公寓民宿预订平台', 'エレメンタル ファンタジー - 高精細３ＤアクションＲＰＧ', '驾校一点通-保过版，2017最新驾考学车宝典', '平安WiFi-手机必备的万能WiFi上网钥匙', '天天快报 - 最热门的新闻资讯软件', '狼人之夜', '家长通-一起作业旗下家长端的同步课堂点读机', '小猿搜题HD-中小学拍照搜题作业帮手', '单机三国志-不抽卡无体力,战个痛快', '蚂蚁聚宝—蚂蚁金服旗下投资理财平台', '家計簿マネーフォワード-自動連携で簡単 人気の家計簿', 'ゆるドラシル -本格派神話RPG-', '书香云集Pro-小说电子书免费看书读书听书追书无广告阅读器', '买火车票Pro', '直播吧(官方版)-体育从这里开始', '永生劫 — 单机回合仙侠RPG', '江湖风云录-超自由武侠剧情角色扮演手游', '工银融e联', 'ひみつの出会い探しはバクアイ-無料の出会いチャットアプリで友達作り', 'pixivコミック - みんなのマンガアプリ', '【真・お絵かきパズル】〇〇投げてみた結果ｗｗ\\u3000完全無料！', '宜人贷借款', '【明星恋爱】偶像之路TIME TO STAR', '실시간 날씨', '零基础学音标', '记账·圈子账本(专业版)—可共享的全能记帐本软件', '宾果消消消 -赵丽颖代言', '戦艦帝国-200艘の実在戦艦を集めろ (2周年記念&世界2000万DL)', 'Jメール 出会える人気の匿名SNS出会い系アプリ', '楽天カード', '蜜芽 - 生娃养娃上蜜芽', '360手机浏览器-安全上网看新闻、安心搜索、极速抢票', '华尔街见闻（专业版）-全球财经新闻精选', 'لغز الماضي - اربع اجزاء', 'スロットマニア・フィーバー～本場ラスベガススロット', '小历 - 通知中心日历', '放置江湖: 大侠的成长之路（高自由度的武侠体验）', \"マクドナルド - McDonald's Japan\", '借贷宝-直投熟人更高明', '大根にしがみつく女子高生', '熊猫直播HD-最娱乐的直播平台', 'カロリー管理（痩せるアプリ）', 'マンガ図書館Z -人気漫画が読み放題！', '微软识花', 'ホットペッパービューティー/サロン予約', 'ようとん場', '自动证件照 - 智能证件照相机美图美颜编辑,制作学生证件照', '翼支付-只为简单生活', '银联钱包- 银行卡管家，扫码支付享优惠', 'HIGO-全球奢侈品牌和设计师品牌购买平台', 'ヤフオク! 利用者数NO.1のオークション、フリマアプリ', '战神之怒', '宜搜小说-热门网络书籍看书追更必备神器', '征戦エクスカリバー', '【はらぺこパズル】ごはんに恋をした', '棒棒糖-宝宝的世界衣橱', '快读免费小说-最热网络小说追书神器全本下载阅读器', 'ダウト～嘘つきオトコは誰？～', '腾讯WiFi管家-手机安全免费WiFi', '超ヒモ理論 ～働きたくないでござる～', 'flick（フリック）- みんなの顔文字キーボードから名前が変わりました', '日课——给每一位好读诗的人！', '挖财宝理财-预期年化收益高达12%', 'mememo(ミーメモ)ダイエット〜生理日予測まで女性サポート', '企业微信', '全民坦克联盟—坦克帝国官方正版', 'フリル(FRIL) - 満足度No.1 のフリマアプリ', '鏡の中のプリンセス Love Palace', 'DELISH KITCHEN - レシピ動画で料理を簡単に', '中国搜索-国家权威搜索', '新概念英语2015最新版-英美全四册', '楽天市場 for iPad', '优信二手车-二手车买车卖车评估交易平台', 'Eye Training Cocololo-3dステレオグラム視力回復アプリ-', '贝贝-8000万妈妈信赖的母婴正品特卖拼团商城', '本気で英会話！ペラペラ英語\\u3000英単語・リスニング・TOEICの学習にも！', '弹弹堂S- 巴萨传奇助阵 弹弹堂手游官方版', '交通银行信用卡买单吧', '秀色秀场-网红直播 聊天交友', '上司と秘密の2LDK\\u3000Love Happening', 'ゲーム発展国＋＋', 'mazec - 手書き日本語入力ソフト', '迷你世界-国产精品沙盒联机生存建造游戏', '脱出ゲーム 1K', '【謎解き】罪と罰-ノベルゲーム型 推理アドベンチャー', 'DayDayCook － 日日煮', '平安金管家 — 值得信赖的移动金融生活管家', 'ファンタジードライブ【快進撃3DRPG】', '平安好车主-用车助手,安全管家', 'モン娘は～れむ【モンはれ】', 'ウィズダム英和・和英辞典 2', '百度钱包-金融信贷和理财投资优选', 'もやししゃちょー', '拼多多 - 1亿人都在拼的购物App', '舰娘收藏2-注册就送辽宁号', '【よく当たる】手相鑑定〜選べる鑑定ジャンル(人生運、仕事運、恋愛運)', '俺と鬼嫁の100日戦記', 'ホストのアブナイ世界', '非诚勿扰-中国最大免费婚恋交友平台', '感動アプリ！無料ゲーム Japanese Gacha', 'UDONちゅるん', 'Suicaチャージ', '家园7：雪城增强版', 'ごちうさアラーム～チノ編～', '我的密码-极简账号备忘录，安全记录管家', '大航海世界（风靡日本航海手游《壮绝大航海》正版授权）', '【カノピッピ大作戦】ギャルがオタクに恋をした/脱ギャル系彼女育成ゲーム', '天天麻将-有奖励的麻将玩法全集', '熱血高校！胴上げ部', 'Uber优步中国', '脱出ゲーム 謎解き部屋からの脱出', '10 – 頭を良くするパズル', 'どうぶつしょうぎ(公式)', 'ぼっちでもリア充になれる奇跡のアプリ。〜恋する缶づめ。〜', '美食杰-让吃饭变简单(VIP版)', '脱出ゲーム\\u3000研究所からの脱出', '脱出ゲーム\\u3000Cottage', '【謎解き】自称カノジョからの病みすぎメッセージ', '謎解き ジェスチャーゲーム - 何してる？', '銀魂 公式連載アプリ〜銀魂の漫画が毎週１巻読めるアプリ〜', 'QRコードリーダー for iPhone - 無料で使えるQRコード読み取り用アプリ', 'ぷちドラシル 〜ゆるドラ外伝〜', '激ムズ！ねこ階段', '迷你屠龙传(1.76经典休闲挂机版)', '求生无限 - 无限流生存挑战大冒险', '街机格斗王', '我叫MT3-回合制魔幻世界 大型公会副本开荒', '最高警戒', '不思議雑貨店ローズ ～ほのぼの再建記～', '脱出ゲーム KOTATSU', '好きになったら負け。\\u3000完全無料！女性向けイケメン恋愛ゲーム', '霸王卧龙传', '【推理ゲーム】 YASU-第7捜査課事件ファイル-', '精度93％ 絶望の心理テスト', '脱出ゲーム\\u3000わたしをみつけて\\u3000-おじいさんとわたしの物語-', '激おこ!! はじめしゃちょー\\u3000なんなんですか!?', '新超级群英传OL-单机党必玩的三国群英手游', '中高英文法を10時間で！マジグラ', '当たる占い師【水晶玉子】特別鑑定書≪無料占いあり≫', '脱出ゲーム\\u3000都市伝説〜杉沢村からの脱出〜', '脱出ゲーム - 書道教室 -  \"漢字\"の謎に満ちた部屋からの 脱出', '《女性口コミNo.1》水晶玉子の幸福領域占い', 'ブラックバイトはじめました。２\\u3000～居酒屋編～', '脱出ゲーム\\u3000Night Room', 'ねこみっけ - おもしろい人気無料ゲーム', '激ムズ！ねこじゃんぷ２', '脱出ゲーム - Solid - 無機質な部屋からの 脱出', '脱出ゲーム 古城からの脱出', '病みカワカメラ', '美播 - 玩不尽的真人游戏', '二炮手-同名抗战狙击手游(孙红雷主演)', '陌恋-同城高颜值寂寞美女帅哥激情交友聊天神器！', '脱出ゲーム\\u3000ぼくのおねがいきいて', 'Dark Money-無料のお金稼ぎギャンブルゲーム-', '【ドレ？ドコ？】脱出ゲーム感覚の謎解きパズルゲーム', 'ペットとあそぼ！- 声を選んで写真がしゃべる、しりとりゲームおしゃべりペット！犬・猫好き癒し系アプリ', '烈焰王座HD - 卡牌与挂机结合的养成放置游戏', '擬人缶～俺のペットが少女になった～', '僕の彼女は浮気なんかしない', '大话问仙 - 与众不同的萌派仙侠回合游戏体验(送神器)', '注文の多いブサ猫軒', 'ごちうさアラーム～リゼ編～', 'You hate me? わたしのこと きらい？', 'ゲームセンター倶楽部', '脱出ゲーム\\u3000In My Heart', '蜀山诛魔纪-古装恋爱仙侠动作手游·MMO端游品质', '大挂西游 - 降魔之路官方正版', '脱出ゲーム - KINDERGARTEN - 子供にイタズラされたリビングからの 脱出', 'ピグパーティ - きせかえ・アバターで楽しむトークアプリ', '青空発掘カンパニー', '健康献立レシピ提案 オーガニック “Ohganic\"', 'ミリオン行進曲', 'ナニワ金融道\\u3000全巻無料のマンガアプリ', 'おかんからのメッセ - ほのぼの謎解きゲーム', 'NAVIRO(ナビロー) - カーナビ/バイクナビ/徒歩ナビが使える高性能ナビアプリ', '最長１週間の献立が簡単に作れるme:new（ミーニュー）', '皮皮四川麻将', 'ワンダークラウン', '网商银行', 'サッカーカーニバル', '龙珠直播-高清游戏娱乐直播平台', '性教育そうだったのか！世界一まなべる保健体育クイズ(画像付き)', '乐享动-有运动音乐推荐的计步器', 'らぶいずふぉーえばー #泣けるピアノゲーム', '豪快ショット連発！ストレス発散テニスゲーム「エアK」', 'おじクエ - OJISAN QUEST - タップRPG -', '殺意の国のアリス -狂気に目覚めた童話の主人公たち-', '【脳トレ】ROLL -ころがす、はめる、きえる-', '操作しやすいナンプレ！目に優しい パズルゲーム 800問', 'シロクマ先生のゆるくない英文法', '剑仙传奇·蜀山修仙之独步天下', '無料ゲーム タッチザナンバー（Touch the numbers）計算の脳トレでパズル！', 'ここに墓を建てよう', '天天萌斗—超级萌红将免费领取，上千少年超级英雄形象，让你在多次元大陆享受卡牌萌斗罗乐趣', '麻雀物語３ 役満乱舞の究極大戦', 'NINE 対戦型脳トレ -目指せ賞金王！-', '派派激情版-寂陌陌声人交友神器', 'やる夫のチャリ', 'シルエットクイズ～人気マンガ・映画アニメキャラ・芸能人で暇つぶし脳トレ', '人众金服[回馈版]-高收益理财软件', 'クリアしてみろよ？ 神ゲー アクション ゲーム', '懸賞パズルパクロス２', '伙星 - 随手拍出明星一样的MV', 'iSNOB 小众精品爱好者的私藏Top 10', 'マジ死にゲー', 'まんが一本道〆', '创客金融-高收益银行存管投资理财平台', '镜花缘：两世英雄情缘,数年问仙修道', 'ディグラム恋愛診断', '盗墓OL-精绝女王', '恋愛消滅ボタン ~ 無料 泣ける恋愛小説 放置ゲーム ~', '街机游戏厅 - 电玩游戏合集火爆改版', 'ポケット戦国 -戦略と戦術で歴史を作れ！-【本格派 戦国シミュレーション】', '视吧-全民手机直播', '龙之觉醒-热血经典RPG，回味激燃岁月', 'ニュースパス -かんたん操作で必要なニュースがすぐ読めるニュースアプリ', '9回裏だけ甲子園', '捨て猫レスキュー', '战姬物语-亚洲顶级画师操刀,颜值爆表手游', '口袋苍穹-首日送萧炎，重返斗气大陆', '镜花奇缘 - 最新诛仙类卡牌传奇手游游戏', '妙资理财（九周年版)-高收益理财投资平台', '君の目的はボクを殺すこと。', '召喚AKUMA/悪魔合体召喚～育成シミュレーションRPGゲーム', '都市异能小说-全本经典有声小说听书阅读神器', 'ALOE -ダイエット・ヨガ・エクササイズ…健康美を追求する女性の人気無料ニュースアプリ', 'ポケ電バッテリー for ポケモンGO', 'はじめん\\u3000～はじめとつくる動画生活～', 'DARUMA -目玉を転がして入れてください-', 'お弁当をつくろう！ママごっこ－お仕事体験知育アプリ', '南国物語', 'TOEIC®TEST実力判定『アプトレ』', 'お前は俺の女だろーが【胸キュン恋愛、リア充ストーリー！？】', '猎魔传奇-塔塔&推塔挂机私服手游', 'ブラックバイトはじめました。俺の嫁に捧げるストーリー【放置】', 'GeniusTest！天才てすと', '牛タン牛タン牛タンタン', '炎上なう -つぶやきSNS風シミュレーションゲーム-', 'Test your color IQ！カラーIQ診断テスト２', '欢乐颂合集—刘涛、蒋欣等主演电视剧同名原著', '传说一刀 - 一刀一级PK爆屠龙', '面倒だがトリあえずキーボード ～ さわりたくなるキーボード', 'アキラメロン【メロンを受け止める、チョイムズゲー】', '面白ニュースを超快適に読める!!まとめのまとめMM', '真モグモグ風林火山2', '妙资理财-福利版（年化14.8%注册送1万体验金）', '诺诺镑客—让财富升值', 'これやったことない人いる？', '鴨川等間隔の法則', 'PP基金-随时提现的投资理财平台', '多纳餐厅2', '一言-记录字句，发现共鸣', '坦克新纪元——经典红警狂热回归', '全民暴力摩托-暴力摩托3d免费真实赛车小游戏', '女の子のための女子トレンドまとめアプリ-ウーマガジン-', '空格－更优秀的个人技能交易平台', 'マッチングならSecret- 友達・恋人探しSNS', '極限ドリブル～神の子 edition～', '暴打三国志-经典RPG角色扮演动作卡牌策略手游', 'ゲームプレイで賞金ゲット！ポットハンター', 'Fit 私人健身教练-超有效的健康运动减肥软件', 'シンデレラブレイド2', 'ピンポンカーブ  君の反射神経Lvはいくつ？  #天才求ム', 'オオカミ姫 [ みんなで協力！ターン制ギルドバトルRPG ]', 'Spot the Difference!診断テスト', '年賀状2018｜おしゃれなスマホで写真年賀状2018', '求恋爱 专业版-高端恋爱相亲婚恋交友神器,同城寂寞单身男女聊天约会找对象平台', '口袋全明星', 'Are you a psychopath? 怖い心理テスト', '桃太郎の\\u3000はなし\\u3000は終わっていない #泣ける昔話ノベルゲーム', '多盈理财-正规手机投资金融理财产品', '勇士与魔龙', '诸神战纪竞技场：超神大冒险(无尽关 排行榜 动作类横版过关游戏)', '金陵十三钗－王丽坤代言,伴你穿越红楼今梦', 'おチャベリ-ビデオ通話でマッチングアプリ', '少年勇者团 (Combo Warrior)-日系Q萌即时战斗消除RPG手游', '公牛炒股-证券开户交易软件', '流しそうめんエクストリーム', '商品バーコードで賞味期限を通知 Limiter2 (リミッター)', '【放置ゲー】壁ドンしたら人生変わった ～グリモアのキャラ達に壁ドン！？～', 'トクバイ - チラシアプリ／スーパーの特売情報で節約 -', '戦え！プリンセスドール', '無料アプリ暇つぶしゲーム【BOKEMON】〜トボケモンスターを進化させるで〜', 'MINE［マイン］ファッション/コーディネート動画アプリ', 'Casino Girl-お金稼ぎ美少女育成ゲーム-', '航海帝国HD 唯一正版授权 传承经典 统御大航海强者时代', '「おつぼね」“あるある”エンターテイメントストーリー：OTUBO（お局）', '花粉儿-女性、母婴闲置交易平台', 'the SOUL of SEVENS【ソウル オブ セブンス】', 'グルータ / 最新ニュースまとめをグループチャットで！(Grouta)', 'SmartForm - 見積書・納品書・請求書・領収書作成ソフトの新定番！', '今日、彼女が死んだ', 'ひとりぼっち惑星', '黄金日-贵金属理财投资黄金白银', 'トリセツメーカー\\u3000トリセツ診断', '奇跡のメガネ\\u3000-恋愛シミュレーションゲーム', '片手キーボードPRO', 'オーブGETマルチ掲示板！ for モンスト', 'なぞって冒険！きゅるるんくまのパズルリンク', 'スタンバイ 仕事もバイトも暮らしにあった選び方', '女の子の憧れが全てつまったTOKYOリアルコーデアプリ - TOPLOG', 'キスまでにしたい10のこと ~ 無料 胸きゅん恋愛小説 放置げーむ ~', '闇金クリッカー', '小牛在线-理财投资神器', '脳トレクロスワード -解けばIQがあがる!?無料パズルゲーム-', '英雄Q传-穿越回合制卡牌手游，梦幻般的剧情，开启3D热血传奇人生', '脱出ゲーム 体育館からの脱出【学校脱出シリーズ5弾】', '全民德州扑克-天天尽享拉斯维加斯之夜', '培训题库', '网娱大师-网吧娱乐大师', '帝国征服者-王者联盟列国纷争', '大江戸ぶらり', '多重人格彼女〜僕の彼女は世界で一番可愛くて、そして狂っている〜', '果冻星连萌-全球极具诱惑益智游戏,好玩的闯关游戏,2016最新休闲益智游戏', '微火车票-查机票订酒店春运特价随行', '霸王英雄传（吕布一统天下，演义三国群英杰传奇）', 'お小遣いアプリ。ポイントをレシートで貯めよう\\u3000／\\u3000レシポ！', '车轮车友会—汇集养车、洗车、代驾、汽车头条、汽车用品的车友聊天分享之家', '脱出ゲーム\\u3000大正ロマン\\u3000女記者脱出譚', '奇幻射击2', 'LOCARI(ロカリ)-オトナ女子向けライフスタイル情報アプリ', 'クリアした奴マジ天才', '暇つぶしに人気  脳トレ パズルゲーム\\u3000- LINK', '暇なら話そう！誰でも話せて友達も作れる「KoeTomo」', 'ニュース速報と災害地震速報が届くライフライン NewsDigest（ニュースダイジェスト）', '出会い無料のチャット掲示板 LINK', '日曜劇難99.9', 'ホラースポット-ghost spot-意味が分かると怖いマップ', '好车无忧二手车—二手车买卖实体店', '萌店-朋友圈的美味生活', 'デジラアプリ - データ容量のやりくりに', 'FRESH! - ログイン不要・高画質で生放送が見放題', '融360-贷款、信用卡、信用报告', '舞妓ドリル', '作业通-中小学搜题搜作文必备神器', '青藍高校リア充部', '坂本ですが？秘技…フリータイムキラー', '梦幻轩辕', '万年历-日历农历黄历天气', '妙资理财-探索版（安全稳健高收益理财神器  ）', '豪快ショット連発！爽快卓球ゲーム「サァァァ！」', '铁血武林-武侠回合制策略手游', '出会い応援チャットアプリLIKE YOU', 'Black Hole -世の中で最も困難な物理げーむ ぱずる-', '【業界初成長マップ搭載！ねこ育成マト当てパズルRPG】たまねこウォーズ', \"Fragment's Note Memories -Fragment's Note公式資料集アプリ-\", '無料ゲーム HANABI ON LINE 花火（ハナビ）パズル', 'BiBi娱乐社区 - 好玩的游戏都在这里！', '平安好医生-要健康上平安好医生', 'PP基金理财-灵活存取的高收益金融理财平台', '2代目 Nソウル みそぽん', 'ひとたがやし', '东西战神', '懸賞ソリティア-ギフト券/ギフトコードGETでお小遣いが稼げる定番ソリティアクロンダイク', 'ビッグバン チャット-友達作り ひま友チャット', '信用钱包官方版-用手机号就能贷款', '新大主宰-2016卡牌手游巨作！', 'パチスロ バイオハザード6', '抢火车票 for 12306火车票官网', '爆笑アプリ！人気無料ゲーム kimazui gacha', '戦国乙女〜剣戟に舞う白き剣聖〜西国参戦編', 'トリセツメーカー２\\u3000トリセツ診断', 'まぐろ職人（通）', '途牛旅游PRO-订机票酒店，查旅行景点门票', '目の錯覚で性格診断', '僕の彼女が誘拐された。', 'まぐろ投げ！', 'Love Bank-お金ゲーム/恋愛ゲーム/イケメンゲーム/育成ゲーム/タップゲーム/賭けゲーム', 'ピタゴラパブロフ', 'ダニエル！！今はフリーキック中よ！', '女子力たったの５、ゴミずら◇恋愛xイケメン育成+放置げー！無料の育成・恋愛・放置ゲーム～', '大圣捉妖记', '大头儿子天天乐跑-和孩子一起玩的游戏！', '脱出ゲーム 学校の食堂からの脱出', '渡劫-多武器战斗', 'MapFan(マップファン) – 渋滞情報/オービス/オフライン対応の本格カーナビ', 'ハニーズアプリ', '如意夺宝', '謎解き母からのメモ', 'Creema（クリーマ）- ハンドメイドマーケットプレイス', '【実況】今からカレシを葬る #衝撃の実況動画ノベルゲーム', 'モンスト マルチ掲示板 運極 ＆ ガチャ予報 & 攻略情報 for モンスターストライク', '400ステージに挑戦！ばあジャンプ', '果罐Pro-通知中心快捷安全启动插件', 'シュッと描いてポンッ!（シュポン）物理パズル脳トレ', 'HONNE -本音が言える匿名つぶやき&チャットアプリ', 'セブン‐イレブンアプリ', '脳トレ爽快パズル 激ムズ！和のひとふで書き Line', 'わかる！算数 小学４年【下】 for iPad', 'わかる！算数 小学４年【上】 for iPad', 'バーチャル高校野球', '爆速！マルチ募集掲示板 for モンスト', 'ぱちモンパズル〜簡単無料パズルRPGゲーム', '艶が～るプレミアム 女性向け恋愛ゲーム！乙女げーむ', '超特訓！トミックゲーム！！', 'SAMURAI SCHEMA -幕末維新戦記- サムライスキーマ 本格派育成放置ゲーム', '花火撮影 notepad Lite', 'NOW直播—腾讯旗下全民直播平台', 'ATOK -日本語入力キーボード', '全国一斉性格テストDX', '盗墓之王-寻龙秘事', 'ニート勇者３ -闇の側の者たち- 無料ロールプレイングゲームRPG', 'もこうもこもこ', '美柚经期助手(专业版)-月经·生理期预测，还能备孕育儿', '愛しのショコラティエ いけめん恋愛ゲーム・乙女げーむ女性向け人気', '斗斗大冒险之我爱斗斗堂-官方正版4v4竞技抛物线手游', '式姫４コマ 其之四', 'テレビ視聴', 'もじさがし', '彩库宝典-【官方版】', '口袋电玩-经典街机游戏真人秀版•玩转全民疯狂欢乐火拼炸诈扎金花送斗牛牛麻将VIP', 'e袋洗-新用户领20元优惠券，20分钟上门取送', '脱出ゲーム 気まぐれカフェの謎解きタイム', 'ぷかぷか', '最後の英単語学習！マジタン', '星になったカイロくん', 'Love Bank -お金ゲーム/恋愛ゲーム/美少女ゲーム/育成ゲーム/タップゲーム/賭けゲーム', '【完全無料】ソク出会える！ひみつフレ探し掲示板', '闪瘦-健康减肥瘦身', 'SKK アクション ブロック崩し', 'Ticket Camp - フリマよりも安心で簡単なチケットアプリ', '无双小师妹-登录送橙将', '冒険ディグディグ（ドット絵ｘ放置ｘ冒険RPG）', '成金電鉄-超ハマる放置系ゲーム', '歌手発掘 動画投稿アプリ  カラオケ！sing!  App Star', '世界邦行程大师-出国自由行定制专家', '妙健康-健康自测管家', '大空ヘクタール農園', 'FUNDO［ファンドゥ］- 話題のネタを毎日更新！無料ニュースメディア', 'JR東日本アプリ', '咪咕视频-电视剧综艺直播', '多融理财(Pro版)-12%高收益理财投资平台', 'Horror Story 2016\\u3000こわい話', '美男美女診断', '青藍高校ヒモ部', '陌爱神器-不闲聊！陌生人快速约见面平台', '激ムズ！和のひとふで書き！online', 'それゆけ！ヤンキッキー', '陌爱-最in全民交友神器！同城寂陌陌生帅哥美女视频聊天约会平台', '开心扫雷-根本停不下来的创新玩法', '高清影视-大片免费天天看', 'そら案内', 'ダイエット女子が痩せた魔法のアプリ-食事・運動・美容＠DIET', 'ゴミカレ!!', '輪ゴムでシュート！ - 無料で遊べるミニゲーム', 'レアジョブ瞬間中学英単語 | リスニングやTOEICの基礎学力にも', '電車パズル ツメツメ - 通勤時間にピッタリ! 脳トレパズル', 'カテエネ×Shufoo！', '妖怪别跑', 'ゴールできたら神！！2', '艺龙旅行Pro-酒店预订专家', '魔女の泉', 'スカッと！脳トレ！ピッといん〜頭がよくなるブロックパズルゲーム〜', '大学生のための時間割', 'パチスロ モンスターハンター 月下雷鳴', 'オービス警報 - オービス/速度取締り&渋滞', '【完全無料】おとな専用！出会い掲示板', 'モンスターマスターX【オンライン対戦型RPG（ロールプレイング・ゲーム）】', 'G1牧場ステークス', 'minimo（ミニモ）/サロン予約', 'スーパーストリートファイターIV パチスロエディション', 'PIXUSかんたん年賀状', 'BLEACH 公式連載アプリ〜BLEACHの漫画が毎週１巻読めるアプリ〜', '謎解き[緋色探偵社と100の推理]メッセージアプリ風ノベルゲーム', '【謎解き推理】意味が分かると怖い話-この怖い話を謎解き、怪談を読み解けるか…', 'フラッシュワード〜光速瞬間記憶脳トレクイズ〜', '合戦!!にんじゃ村', 'プログレッシブ ロシア語辞典', '[GP]SLOT魔法少女まどかマギカ(パチスロゲーム)', 'にゃんちゅう', 'スナイパイ72', '戦国乙女〜剣戟に舞う白き剣聖〜', 'RAMP-光を灯す孤独な物語- #無料アクションゲーム', '[GP]ハナハナホウオウ-30(パチスロゲーム)', '広告ブロッカー（ウェブ画面上の広告をブロックする最強アプリ)', '下ヨシ子の「２０１６年\\u3000あなたの流生命」', 'You勇者 -HIKAKINとSEIKIN(ヒカキンとセイキン)と無料ロールプレイング', 'ViRATES[バイレーツ]-面白ネタまとめの決定版！', '逆战仙魔 大圣萌仙全民跨服千人即时PK', '魔灵觉醒（王者归来）- 3D新职业魔剑士降临', 'Test your color IQ！カラーIQ診断テスト', 'お解きなさい！', 'スマイルパーク 〜らくらく放置系遊園地ゲーム〜', '戦国乙女2～深淵に輝く気高き将星～', '筆姫 - オシャレなグリーティングカード SNS投稿 自宅印刷もOK', '恋愛タップコミュニケーションゲーム 週刊マイメイド', '東京時層地図 for iPad', 'ゲッターズ飯田の占い', 'Ｘ:15秒の人気 アクション ゲーム', '誰にもバレない！[秘密のアルバム]\\u3000無料で写真をロック！', 'まるみえ！性教育ふしぎ発見-クイズで学ぶ保健体育', '頭の回転をはやくする！脳トレ！Blackhole', '心霊たんち機 Plus', '心がラクになる後ろ向き名言100選', 'スタバで呪文', '意味が分かると怖い話-この意味怖を謎解きできるか…【謎解き意味怖】', 'シカクイズ -暇つぶしマンガアニメ映画クイズ-暇つぶしに最適', '赤ペン 提出カメラ', '極寒スライダー', '【脱出ゲーム】絶対に最後までプレイしないで 〜謎解き＆ブロックパズル〜', 'クリスマスミッケ/脱出ゲーム感覚の絵探しパズルゲーム', '激ムズ！和のひとふで書き！ 〜頭をつかう脳トレパズルゲーム〜', 'ゲオ\\u3000クーポンが貰える！ゲーム予約もできる！', '飞凡--智慧新生活', 'PROF - 共通点で楽しむSNS', '觉醒吧数码兽-被选召的孩子  超人气动漫  回合制卡牌策略养成', '小学館 オックスフォード 英語コロケーション辞典', 'スーパーブラックジャック2', '海鮮!!すし街道', '丸亀製麺', 'ＣＲスーパー海物語ＩＮ沖縄４', '热血超人-二次元卡牌游戏', '脱出ゲーム\\u3000海底神殿からの脱出', '你我贷理财-P2P理财管家', 'パチスロ ガールズ＆パンツァー', '全民打金币——爽快的正版放置手游', '森林舞会-3d画面刺激的娱乐城游戏', '你我贷理财-基金理财工具', '謎トレ 謎解き脳トレーニング', '钱妈妈理财-国企投资有保障的金融理财产品！', '大人がハマる脳トレ！ぷるるん～頭が良くなる一筆書きパズル～', 'QRコードリーダー for iPhone', '肌年齢診断', '自らデッドボール', '洋葱圈—正经人的不正经聊天工具', '飞刀传奇-动作武侠热血江湖即时PK传奇（登录爆金装）', 'パチスロ デビル メイ クライ クロス', 'ガールズちゃんねる - 女子のニュースとガールズトーク', '英熟語ターゲット1000（4訂版）', '【マイナビバイト大学生版】大学生のバイト探し・アルバイト求人', '兜町アナリストがお伝えする「兜予報」（無料）', 'ドリブルの達人', '剑客情缘-高爆率高掉落天天疯玩', '【放置】勇者改名 ～「ふざけた名前つけやがって！」', '現金製造ロボ -毎日コツコツ3万円稼ぐ-', '出会い系無料で遊べるsnsアプリ内緒チャットトーク', '鬼吹灯昆仑神宫 - 年兽袭来', 'スッキリ謎解きゲーム！！', 'えほう - 最強の恵方コンパス', 'Clash of Richers 3 （城市富翁3）', '借金勇者~そして完済へ…', 'BLOCK(ブロック) -ぼくの箱庭【3D】-', '问仙奇遇-新玩法新套装嗨到爆', '心の美男美女診断', '動画英文法2700', 'TAP BRAIN - 1日5分の計算で頭が良くなるゲーム', '地元の掲示板「ジモティー」地元でカンタン！フリマよりもお得！', 'モンスト覇者の塔マルチ掲示板 for モンスターストライク', 'ケンタッキーフライドチキン\\u3000公式アプリ', '君にはクリアできませんよ', 'おわかりいただけただろうか心霊写真で最恐ホラー体験', 'こっち見んなwww', 'ねこあわせ。', '烈焰王座-称霸魔法帝国的策略游戏', '激突!!10円玉ドッカンバトル -最強AIに勝てる？-', '脱出ゲーム 学校の七不思議 -恐怖からの脱出-', 'Round1 お得なクーポン毎週配信！', '金钱谷软件-活期手机金融投资理财平台!', 'プチ・ロワイヤル仏和辞典（第4版）・和仏辞典（第3版）', '出会い秘密チャット - 相席 出会い系チャット', 'CROSS -よけてすすむ爽快アクション-', '秘密の関係はじめました メッセージ風恋愛ゲーム', '死亡フラグがたちました！！【ノベルゲーム型あるある謎解きアドベンチャー】', '零钱夺宝pro-新手99元红包助你1元购', 'ハマる脳とれ ぱずる!!PITTARI～子供も楽しめる脳とれ ぱずるげーむ～', '飛べないロボはただの... ～無料アクションRPGゲーム～', 'ピンポンファイター - 卓球王にオレはなるっ！！', '一起捕鱼 - 欢乐街机电玩城', '机で卓球', '開園ピクセル牧場', '斗地主·大全-2017年最受欢迎的精品棋牌游戏合集', 'サクサクチェッカー 最適化  -  iChecker', 'ママはストーカー', 'Übungen für einen starken Rücken – GEO WISSEN GESUNDHEIT', '易经全集-[有声读物]', 'バーチャル恵方巻【節分・恵方コンパス・方位】', 'My Diary - 你的名字非官方', 'タップモンスター◆タップだけの簡単本格RPG/タプモン', 'Brain Block -脳トレ分解パズル-', '脳トレ！パターンキューブ', 'ぼくのボッタクリBAR2 -全国制覇篇-', 'プリンセスクローゼット 女性向け恋愛ゲーム！乙女げーむ', '恋愛ゴシップ 女性向け恋愛ゲーム！乙女げーむ', '尚品网 - 全球精品高端时尚购物网站', 'ロボはつらいよ。～フルボッコタワー～アクション育成強化ゲーム！', 'デビルサバイバー２ 最後の７日間', '大人の出会いチャット  - 出会い系 アプリ', '星之轨迹-好玩的手游角色扮演网游新游戏', '食べないと死ぬ 3', 'Boooom!! -たった1発で爆破できますか？-', '激ムズ！お前、脱出できんの？～反射神経アクションゲーム～', '意味が分かると怖い話【意味怖】-この怖い話の意味が分かるか…', 'おかず甲子園', '絶対に笑える話\\u3000腹筋崩壊の笑える話', '時計仕掛けの彼女 /明日なんて来なきゃいいのにね', 'マンガモンスター \\u3000無料マンガ/無料本/人気マンガ', '妹型杀器', '武神战纪OL-热血三国志国战手游', '激ムズ！にゃんコプター', '謎解きあの人からメール', '东方财富网领先版-财经资讯&股票开户', '暗黑屠魔者2（唉哟-还不错哦）', 'エジコイ！〜エジプト神と恋しよっ〜', '剑雨奇缘-万人同屏PK,唯美风仙侠', 'PINGPONG（ピンポン）- 君の反射神経Lvはいくつ？', '椅子ドンVR~一ノ宮英介 編~', 'マンガきゅんと‐漫画が全話読み放題の少女まんがアプリ', 'ダイエットやメイク、ネイルのコスメ情報 - シェリル', '国金宝理财-15%年化收益的金融投资赚钱软件', '女性向けまとめ読みアプリ - pool（プール）-', 'イケメン革命◆アリスと恋の魔法 恋愛ゲーム', 'ライブチャット、ビデオチャット通話が楽しめる！ ライブでゴーゴー', '百盈足球-专业足篮比分赛事预测', 'ねこめし屋 -マンガも読めるネコゲーム料理店経営の無料育成シュミレーション-', 'Please,Dad. I wanna live.\\u3000おとうさん、おねがい。わたし生きたいよ。', 'ひとほろぼし', 'ST channel ［エスティーチャンネル］- 雑誌『セブンティーン』公式アプリ', 'ごちうさアラーム～シャロ編～', '战歌联萌-新英雄登场 惊喜嘉年华', 'テニスクラブ物語', '不良西游-神魔悟空大战篇', 'ScaryStory in Japan 怖い話し無料', '-The 穴通し3D- 君の記憶力x反射神経を問う! ～Mr.CURVEからの挑戦状 ～', '【殺人現場へようこそ】推理サスペンス劇場/謎解き大人の脳トレゲーム', '鳥として生きた男\\u3000その壮絶な人生', 'キクタン 【Advanced】 6000 ～聞いて覚える英単語～(アルク)', '全民夺宝(官方)', '大盛グルメ食堂', 'MineSweeper\\u3000マインスイーパ無料', '秒速で1億円 貢ぐ男\\u3000～美女キャラ集結！from ギャングロード JOKER～', '学年ビリのギャルが今さら受験してみた', '吕布帮帮忙-三国策略卡牌，指间微操轻松畅玩', 'キクタンTOEIC(R) Test Score 600 ～聞いて覚える英単語～(アルク)', '通信量チェッカー', '脱出ゲーム\\u3000カリスマブラザーズのワクワク女子寮脱出大作戦', '剑倚手游', '電球でテニスしてみた-無料で遊べるミニゲーム', '箱庭シティ鉄道', '平安证券', '謎解き窓ガラスの跡', 'モンスト全国マルチ掲示板 for モンスターストライク！〜タスカンと運極が作れるアプリ〜', '恋する幽霊-カレシ、死んでます。-', '人気の動画まとめてみた。\"for YouTube\"', 'キクタン  【Basic】  4000 ～聞いて覚える英単語～(アルク)', 'キクタン 【Super】 12000 ～聞いて覚える英単語～(アルク)', '香哈菜谱-最专业的家常菜谱大全 无广告版', '五目並べ - オンライン対戦搭載！', '王权之战-帝国时代皇室争霸！', 'アニメスタジオ物語', '[GP]パチスロ デビル メイ クライ クロス(パチスロゲーム)', '冒険ダンジョン村', 'ほぼ無理ゲー', 'CUBE 360°\\u3000～想像力×知能×反射神経～', '勘違い探し（俺のこと・・・）', '凤凰新闻(专业版)-有料的军事新闻、娱乐短视频', 'スシロー', '大人のためのかわいいお買い物アプリSUCRESIA(シュクレシア）', '机甲无双－燃即正义 殿堂级战斗手游', '完全犯罪クラブ', 'こち亀 公式連載アプリ〜こち亀の漫画が読めるアプリ〜', '投资乐VIP-白银黄金贵金属理财投资', '脱出ゲーム KA-MA-KU-RA', '恵方コンパス！【恵方巻を食べる方角がすぐ探せる！】', 'ヨドバシ', 'オービスガイド - 新型オービス&ネズミ捕り&検問', '万年历-农历黄历日历天气', '777游戏厅-2017超人气掌上游戏厅', '脱出ゲーム Toilet', '【負けるが勝ち？】少数派に入れば勝利の7Beget', '脱出ゲーム 心霊学校からの脱出', 'ごちうさアラーム\\u3000～ココア編～', '彼女の涙が僕を人間にした', '壊して！無限ドリルランド', '脱出ゲーム Oden', '[GP]アナザーゴッドハーデス-奪われたZEUSver.-(パチスロゲーム)', 'おやじが跳ぶ', 'ナイトメアハーレム 女性向け恋愛ゲーム！乙女げーむ', 'キンニクエスト 筋肉と筋肉と筋肉と呪われし筋肉', 'モンストマルチ掲示板 〜 The BEST 〜 for モンスターストライク', '战车世纪·经典FC重装机兵归来', '四角い頭を丸くする2', 'Yahoo!防災速報 - 地震や豪雨など災害情報をいち早く通知', '英単語ターゲット1900（5訂版）', '下ヨシ子の「２０１７年\\u3000あなたの流生命」', '性格美男美女診断２', 'Think in Japanese (Original name:ひとりごと英語)', '【ひっぱりパズル】ズキュ〜〜〜〜ン！', '完全心理プロファイルX', '秒で100億円', '恵方コンパス.', '古墓仙缘-古装恋爱修仙手游', '番茄电玩城', '大人の脳トレ！ぴたぽん #頭が良くなる #快感ハメコミパズル', '笑ったら負け', '「宅建士」過去問題《受験用》', '物理パズル:flower（フラワー）', '俺が浮気した時の話、聞く？ 男女の修羅場の話まとめ', '轩辕剑叁外传之天之痕-正版经典仙侠授权', 'ジーユー', '主播炸金花', '謝罪会見', '早くトイレに行きたい', '僕の魔球打てるの？', 'アウト～まさか浮気してないよね？～【恋愛不倫探しゲーム】', '애드픽 - 인플루언서가 되어 의미있는 수익을 올리세요!', '[GP]パチスロ ヱヴァンゲリヲン〜決意の刻〜(パチスロゲーム)', 'メンタルリープのアプリ：ワンダーウィーク（旧：ワンダーウィークス）', 'がんばれルルロロ！かさねてブロック', 'なっとう-人気の納豆育成ゲーム-', '全国マルチ掲示板 for モンスト！〜タスカンと運極ができるアプリ〜', '一筆書きゲーム！無料パズルで脳トレしよう！ by だーぱん', 'センバツLIVE!2017／第89回選抜高校野球大会公式アプリ', '新・血液型テスト', 'ジョナサンアプリ\\u3000お得なクーポンが使える便利なアプリ', 'パチスロ黄門ちゃま 喝', '罪と罰2 -犯人は誰だ!?- 謎解き推理ミステリーサスペンス', 'AKUMA大戦 -悪魔を合体召喚して魔王を育成する放置ゲーム-', '心动K歌恋爱季-让我们一起唱歌听歌恋爱吧', 'さすゆう -さすがは勇者様です-無料放置系お手軽RPG!!', '30秒マン-これクリアできるやついる？-', '开挂江湖-Q版武侠挂机', '犯人は僕です。－謎解き×探索ノベルゲーム－', 'js体育资讯', '每日红包', '激Jパチスロ 2027', 'ビルホッピング', '犯人は僕です。～露天風呂編～', '紫马财行理财精英版—安全可靠的投资理财平台', 'SPI言語 【Study Pro】', 'みんなの性格検定', 'テトリマン', 'サクッとスッキリ！ラインナンバー！', '僕の妹が死んだ。', 'ゲスの極み!パリピを探せ!!笑える・ハマる間違い探しゲーム（意外と難問）', '封神榜（洪荒西游英杰传奇）', 'ピッタリあわせて！脳トレcube', 'キモゲーいや、きも毛ー', '出会うカメ', 'アイドルの姫\\u3000-わたしの青春マテリアル-', 'ゲーム攻略「SGGP」掲示板、SNSな友達出会い', '意味が分かると怖い話-この怖い話の意味分かる？【意味怖】', 'TOEIC®テストリスニング360問', '诛妖奇遇-3D仙侠恋爱网游年度巨献(浪漫回合)', '泰坦来袭-热血英雄燃爆部落争霸之战', '蒼の彼方のフォーリズム‐ETERNAL SKY-', '江湖侠客录－武侠迷必玩单机手游', '巨商传奇', 'ナビタイム ドライブサポーター - NAVITIMEのカーナビアプリ', '琅琊天下 - 原著改编单机武侠角色扮演RPG', 'FixYou-無料でチャットトークができるSNSマッチングアプリ', '花しらべ 花認識/花検索', '挂机三国-最强挂机游戏', '修仙幻想-经典萌系回合', '逍遥修仙-掌上360度自由视角经典仙侠动作游戏', '天神决-创新仙侠手游', '修仙侠侣-正统中国风仙侠新作', '胜者为王-多人同时在线PK传奇类手机网游！', 'ネイティブ1000人と作った英会話～日常英会話編～', '懸賞ソリティア-懸賞応募でギフト券が稼げるソリティア！-無料懸賞ゲーム', '别动我学姐-校园格斗巅峰之作', 'マイにゃんカフェ', 'うねうね糸', 'リア充撲滅RUN', '仙侠剑客—大型3D精品ARPG动作神作', '競馬予想 アプリ！馬券予想で収支アップ！競馬 jra 攻略！', 'どうして私じゃダメなの？', '出会い系アプリ i-Mail（アイメール）', 'コンテンツブロッカー280 / 最高の広告ブロック 280blocker', 'オトナの教科書〜学校じゃ教わらない裏教育クイズ(画像付き)〜', 'ねこげーむ~ねこ騎士ポチ~簡単で人気の猫ゲーム~基本無料', '大人には解けない問題', '妖萌战姬HD - 日系二次元萌娘卡牌手游', 'TOEIC®テスト文法640問1', '僕の彼女が成仏するまで', '霸王卧龙传奇（全新转职系统，60种职业供你选择）', '謎解き赤い封筒', 'GETだぜ！じゃねーよｗ for ポケモン', '同城爱约会-单身男女约会神器', '最佳足球经理(非彩票)', '誰ガ為ノ世界~悲しみと始まりのユグドラシル~', 'へびでか〜へび刑事純情物語〜【放置ゲーム】', '东方头条（探索版）订阅分享感兴趣的新闻和搞笑视频', '脳トレ物理パズル【キタコレ！】～IQの限界に挑めるパズルゲーム～ktkr', '金のフレーズ 〜「新TOEIC®TEST 出る単特急 金のフレーズ」収録 〜', '山手線走ってみた。', '无敌战舰-经典策略海战巅峰对决', 'ジェスチャー当て', 'スピードOnline トランプゲーム', 'まっぷるリンク - 旅行ガイドを丸ごとアプリで持ち歩き', 'SPI非言語 【Study Pro】', 'こだわりラーメン館', '【意味笑】意味が分かると面白い話-謎解き2ch系推理ゲーム', '疯狂百宝箱', 'RPG 偽りの物語 / ドット絵ロールプレイングゲーム', '国美在线 – 新人免费领200元优惠券', '鬼畜三国-红将觉醒', '食べないと死ぬ2', '单读-我们的黄金时代', '脱出ゲーム\\u3000ピラミッドからの脱出', '無料で音楽や写真・カメラの裏技アプリ for iPhone7', '自転車ナビ by NAVITIME(ナビタイム) - 自転車のナビができるアプリ', '謎解きロッカーの忘れ物', '大人の納車ゲーム-四角いアタマを丸くする脳トレパズル', 'ねことダンボール', '２ちゃんねる for iPhone', '喔豆-发现世间美味', '梦幻仙途-经典之余又大搞趣味创新（回合制）', '借金あるからギャンブルしてくる', 'ファッション通販 ZOZOTOWN', 'マッチング チャット - マッチング&恋人探しチャット', '理财咖(管家版)-金融投资理财产品多样的手机理财工具!', '弑仙问情', '口袋理财（标准版）-上市公司报喜鸟投资', '友達 恋人探し であい ちゃっと sns -ギャルとも', '【難問謎解き】ねこ神様はクイズ好き？', '【悲報】鬼ヶ島終了のお知らせ\\u3000-ゾンビ桃太郎が3Dすぎて鬼やばいwww-', '中学英文法総復習 パターンで覚える 瞬間英文法', 'Brain15 − 脳トレ 無料パズル −', '【謎解き】ヤミすぎ彼女からのメッセージ', 'みんなのお弁当 by クックパッド ~お弁当をレシピ付きで記録・共有~']\n",
      "\n",
      "\n",
      "A snippet of the corrected ios database: \n",
      "\n",
      "\n",
      "['284882215', 'Facebook', '389879808', 'USD', '0.0', '2974676', '212', '3.5', '3.5', '95.0', '4+', 'Social Networking', '37', '1', '29', '1']\n",
      "\n",
      "\n",
      "['389801252', 'Instagram', '113954816', 'USD', '0.0', '2161558', '1289', '4.5', '4.0', '10.23', '12+', 'Photo & Video', '37', '0', '29', '1']\n",
      "\n",
      "\n",
      "['529479190', 'Clash of Clans', '116476928', 'USD', '0.0', '2130805', '579', '4.5', '4.5', '9.24.12', '9+', 'Games', '38', '5', '18', '1']\n",
      "\n",
      "\n",
      "Number of rows: 6183\n",
      "Number of columns: 16\n"
     ]
    }
   ],
   "source": [
    "english_ios=[]\n",
    "not_english_ios=[]\n",
    "\n",
    "for i in ios:\n",
    "    \n",
    "    name = i[1]    # ***APP NAME IS ON COLUMN 2 ON IOS DATA***\n",
    "    \n",
    "    if true_means_english_new(name):\n",
    "        english_ios.append(i)\n",
    "        \n",
    "    elif true_means_english_new(name)== False :\n",
    "        not_english_ios.append(i)\n",
    " \n",
    "def Extract_ios(lst):\n",
    "    return [item[1] for item in lst]   #modified extract function because once again the app name is the second\n",
    "                                       #... element of the list, so at index 1.\n",
    "\n",
    "print('List of non-English apps found, SCROLL DOWN FOR OTHER DATA: ')\n",
    "print('\\n')\n",
    "print(Extract_ios(not_english_ios))\n",
    "\n",
    "print('\\n')\n",
    "print('A snippet of the corrected ios database: ')\n",
    "print('\\n')\n",
    "explore_data(english_ios,0,3,True)\n",
    "        \n",
    "        \n"
   ]
  },
  {
   "cell_type": "markdown",
   "metadata": {},
   "source": [
    "We are now left with 9614 Android apps and 6183 Apple apps. The previous numbers were 9659 and 7917.\n",
    "\n",
    "The Apple dataset clearly needed more data cleaning."
   ]
  },
  {
   "cell_type": "markdown",
   "metadata": {},
   "source": [
    "### Paid Apps Processing"
   ]
  },
  {
   "cell_type": "markdown",
   "metadata": {},
   "source": [
    "A gentle reminder that we need to study trends of free apps only! Hence it is of low utility to look at paid apps, as we all know users typically are hardly convinced to pay for apps. Thus we need to identify what apps are paid, and filter them out."
   ]
  },
  {
   "cell_type": "code",
   "execution_count": 18,
   "metadata": {},
   "outputs": [
    {
     "name": "stdout",
     "output_type": "stream",
     "text": [
      "List of free apps, our new Android masterlist: \n",
      "\n",
      "\n",
      "['Photo Editor & Candy Camera & Grid & ScrapBook', 'ART_AND_DESIGN', '4.1', '159', '19M', '10,000+', 'Free', '0', 'Everyone', 'Art & Design', 'January 7, 2018', '1.0.0', '4.0.3 and up']\n",
      "\n",
      "\n",
      "['U Launcher Lite – FREE Live Cool Themes, Hide Apps', 'ART_AND_DESIGN', '4.7', '87510', '8.7M', '5,000,000+', 'Free', '0', 'Everyone', 'Art & Design', 'August 1, 2018', '1.2.4', '4.0.3 and up']\n",
      "\n",
      "\n",
      "['Sketch - Draw & Paint', 'ART_AND_DESIGN', '4.5', '215644', '25M', '50,000,000+', 'Free', '0', 'Teen', 'Art & Design', 'June 8, 2018', 'Varies with device', '4.2 and up']\n",
      "\n",
      "\n",
      "Number of rows: 8863\n",
      "Number of columns: 13\n"
     ]
    }
   ],
   "source": [
    "list_android_free=[]\n",
    "def free_android(dataset):\n",
    "    for i in dataset:\n",
    "        app_price = (i[6])       #We could have used the price row, but non free apps are in the $X.XX format which\n",
    "        if app_price == 'Free':  #is harder to analyze than the `Free` indicator on the `Type` column\n",
    "            list_android_free.append(i)\n",
    "            \n",
    "free_android(english_android)\n",
    "\n",
    "print('List of free apps, our new Android masterlist: ')\n",
    "print('\\n')\n",
    "\n",
    "explore_data(list_android_free,0,3, True)"
   ]
  },
  {
   "cell_type": "markdown",
   "metadata": {},
   "source": [
    "Before commenting on it, we need to do the same with our `ios` dataset."
   ]
  },
  {
   "cell_type": "code",
   "execution_count": 19,
   "metadata": {},
   "outputs": [
    {
     "name": "stdout",
     "output_type": "stream",
     "text": [
      "List of free apps, our new IOS masterlist: \n",
      "\n",
      "\n",
      "['284882215', 'Facebook', '389879808', 'USD', '0.0', '2974676', '212', '3.5', '3.5', '95.0', '4+', 'Social Networking', '37', '1', '29', '1']\n",
      "\n",
      "\n",
      "['389801252', 'Instagram', '113954816', 'USD', '0.0', '2161558', '1289', '4.5', '4.0', '10.23', '12+', 'Photo & Video', '37', '0', '29', '1']\n",
      "\n",
      "\n",
      "['529479190', 'Clash of Clans', '116476928', 'USD', '0.0', '2130805', '579', '4.5', '4.5', '9.24.12', '9+', 'Games', '38', '5', '18', '1']\n",
      "\n",
      "\n",
      "Number of rows: 3222\n",
      "Number of columns: 16\n"
     ]
    }
   ],
   "source": [
    "list_ios_free=[]\n",
    "def free_ios(dataset):\n",
    "    for i in dataset:\n",
    "        app_price = (i[4])       \n",
    "        if app_price == '0.0' :      #free apps had a 0.0 price int \n",
    "            list_ios_free.append(i)\n",
    "            \n",
    "free_ios(english_ios)\n",
    "\n",
    "print('List of free apps, our new IOS masterlist: ')\n",
    "print('\\n')\n",
    "\n",
    "explore_data(list_ios_free,0,3, True)\n",
    "\n"
   ]
  },
  {
   "cell_type": "markdown",
   "metadata": {},
   "source": [
    "We now have 8863 free Android apps and 3222 free Apple apps, from our previous dataset of 9614 Android apps and 6183 Apple apps.\n",
    "\n",
    "\n",
    "\n",
    "As we are done with data cleaning, to avoid confusion, let's rename our new masterlists:"
   ]
  },
  {
   "cell_type": "code",
   "execution_count": 20,
   "metadata": {},
   "outputs": [],
   "source": [
    "android_master = list_android_free\n",
    "\n",
    "ios_master = list_ios_free"
   ]
  },
  {
   "cell_type": "markdown",
   "metadata": {},
   "source": [
    "## Data Analysis\n",
    "\n"
   ]
  },
  {
   "cell_type": "markdown",
   "metadata": {},
   "source": [
    "The company for whom we are doing the analysis for has a set app development strategy.\n",
    "\n",
    "They wish to build early stage apps, and if they show promising download amounts they develop them further.\n",
    "They wish to do this exclusively on the Android Google Play Store. If the app is profitable in 6 months, then they will release an IOS version of the app.\n",
    "\n",
    "The goal however is to use the two datasets to find types of apps that are profitable in BOTH platforms.\n",
    "\n",
    "Let's have a look at the headers of our two datasets, and get an idea of what we wish to analyse to achieve these goals.\n"
   ]
  },
  {
   "cell_type": "code",
   "execution_count": 21,
   "metadata": {},
   "outputs": [
    {
     "name": "stdout",
     "output_type": "stream",
     "text": [
      "['App', 'Category', 'Rating', 'Reviews', 'Size', 'Installs', 'Type', 'Price', 'Content Rating', 'Genres', 'Last Updated', 'Current Ver', 'Android Ver']\n",
      "\n",
      "\n",
      "['id', 'track_name', 'size_bytes', 'currency', 'price', 'rating_count_tot', 'rating_count_ver', 'user_rating', 'user_rating_ver', 'ver', 'cont_rating', 'prime_genre', 'sup_devices.num', 'ipadSc_urls.num', 'lang.num', 'vpp_lic']\n"
     ]
    }
   ],
   "source": [
    "print(android_header)\n",
    "\n",
    "print('\\n')\n",
    "\n",
    "print(ios_header)"
   ]
  },
  {
   "cell_type": "markdown",
   "metadata": {},
   "source": [
    "The `Genres` Android column and the `prime_genre` IOS column seem like good starting points. They even indicate the same thing: what genre is the app we're looking at? \n",
    "It is also relevant to study the `Category` column for the Android data, as it fits the common theme.\n",
    "\n",
    "We need two functions:\n",
    "\n",
    " 1. One that calculates the overall percentages of all the possible values (adds up to 100)\n",
    " 2. Another that sorts the percentages from highest to lowest\n",
    " \n",
    "What inputs we can give to make these functions as re-usable as possible:\n",
    "\n",
    " 1. Which dataset do we want to analyse\n",
    " 2. What is the index of the column we want to focus on?"
   ]
  },
  {
   "cell_type": "code",
   "execution_count": 22,
   "metadata": {},
   "outputs": [
    {
     "name": "stdout",
     "output_type": "stream",
     "text": [
      "The IOS app store dataset, features this category distribution (prime genre data): \n",
      "\n",
      "\n",
      "Games : 58.16263190564867\n",
      "Entertainment : 7.883302296710118\n",
      "Photo & Video : 4.9658597144630665\n",
      "Education : 3.6623215394165114\n",
      "Social Networking : 3.2898820608317814\n",
      "Shopping : 2.60707635009311\n",
      "Utilities : 2.5139664804469275\n",
      "Sports : 2.1415270018621975\n",
      "Music : 2.0484171322160147\n",
      "Health & Fitness : 2.017380509000621\n",
      "Productivity : 1.7380509000620732\n",
      "Lifestyle : 1.5828677839851024\n",
      "News : 1.3345747982619491\n",
      "Travel : 1.2414649286157666\n",
      "Finance : 1.1173184357541899\n",
      "Weather : 0.8690254500310366\n",
      "Food & Drink : 0.8069522036002483\n",
      "Reference : 0.5586592178770949\n",
      "Business : 0.5276225946617008\n",
      "Book : 0.4345127250155183\n",
      "Navigation : 0.186219739292365\n",
      "Medical : 0.186219739292365\n",
      "Catalogs : 0.12414649286157665\n"
     ]
    }
   ],
   "source": [
    "    \n",
    "def frequency_table(dataset,index):   #function for generating a table of percentages of given values\n",
    "    table = {}\n",
    "    total = 0\n",
    "    \n",
    "    for i in dataset:         # keep count of how many times a column element shows up, starting from a blank count\n",
    "        total += 1            # keeping track of how many elements we track in total\n",
    "        variable = i[index]\n",
    "        \n",
    "        if variable in table:\n",
    "            table[variable] += 1\n",
    "        else:\n",
    "            table[variable] = 1\n",
    "    \n",
    "    table_percents = {}\n",
    "    \n",
    "    for i in table:           #converting those from frequencies to percentages\n",
    "        percent = (100*table[i])/total\n",
    "        table_percents[i] = percent\n",
    "        \n",
    "    return table_percents\n",
    "\n",
    "def disp_freq_table(dataset, index):         #sort and display the percentages\n",
    "    table = frequency_table(dataset,index)\n",
    "    table_disp = []\n",
    "    for i in table:                          #as it is hard to sort dictionaries, we need to convert the table to just\n",
    "        values_to_tuple = (table[i],i)       #... give us a tuple of (value, its percentage), ignoring the rest\n",
    "        table_disp.append(values_to_tuple)\n",
    "        \n",
    "    table_in_order = sorted(table_disp, reverse = True)  #sort highest to lowest percentage\n",
    "    for val in table_in_order:\n",
    "        print(val[1], ':', val[0])\n",
    "\n",
    "\n",
    "print('''The IOS app store dataset, features this category distribution (prime genre data): ''')\n",
    "print('\\n')\n",
    "disp_freq_table(ios_master, -5)\n",
    "        "
   ]
  },
  {
   "cell_type": "markdown",
   "metadata": {},
   "source": [
    "### Prime Genre Analysis (IOS)\n",
    "\n",
    "More than half (58%) of the IOS apps are `Games`. It is far more popular than its runner-up, the `Entertainment` category (7.88%).\n",
    "\n",
    "A trend that can be noticed is that application genres covered by the default apps are much more likely to not be as popular.\n",
    "\n",
    "For example, games are not installed by default on your Apple device when you buy it. But there is a default camera app, that makes most `Photo & Video` apps quasi-useless. Which is surprising in a way since Apple handheld devices, mainly Iphones, are most probably the most popular photo taking device in the world.\n",
    "\n",
    "Another trend that is noticeable is that there exists two types of apps. Those that we only need to install once and those that we use a bit then delete to then install another similar app.\n",
    "\n",
    "For example Facebook, part of the `Social Networking` genre, only needs to be installed once and has few reasons to be uninstalled (and re-downloaded). On the other hand, a racing game might be uninstalled when it is finished, and the user will replace it with another racing game. An app that shows only one movie will be cycled (installed and un-installed) rather quickly compared to an app that shows many movies. \n",
    "\n",
    "This is what most propably causes the overwhelming majority of `Games` apps. **Instead of 1 gaming app that gives access to 20 games, we get 20 single gaming apps. This sort of meta is hard to replicate for other types of apps.**\n",
    "\n",
    "Either way, leisure-based apps `Games`, `Entertainment`, `Social Networking`, `Sports`, `Music`, `Lifestyle` represent roughly 75% of all IOS apps! If the company's strategy is to focus on making low initial quality types of apps, they can focus on these single-use biased genre of apps.\n",
    "\n",
    "\n",
    "\n",
    "### Category and Genres Analysis (Android)\n",
    "\n",
    "Let's look at the `Category` and the `Genres` data from the Android data:"
   ]
  },
  {
   "cell_type": "code",
   "execution_count": 23,
   "metadata": {},
   "outputs": [
    {
     "name": "stdout",
     "output_type": "stream",
     "text": [
      "Category tab for Google Play Store apps\n",
      "\n",
      "\n",
      "FAMILY : 18.8987927338373\n",
      "GAME : 9.725826469592688\n",
      "TOOLS : 8.462146000225657\n",
      "BUSINESS : 4.592124562789123\n",
      "LIFESTYLE : 3.9038700214374367\n",
      "PRODUCTIVITY : 3.8925871601038025\n",
      "FINANCE : 3.700778517432021\n",
      "MEDICAL : 3.5315355974275078\n",
      "SPORTS : 3.3961412614238973\n",
      "PERSONALIZATION : 3.317161232088458\n",
      "COMMUNICATION : 3.2381812027530184\n",
      "HEALTH_AND_FITNESS : 3.0802211440821394\n",
      "PHOTOGRAPHY : 2.944826808078529\n",
      "NEWS_AND_MAGAZINES : 2.798149610741284\n",
      "SOCIAL : 2.6627552747376733\n",
      "TRAVEL_AND_LOCAL : 2.335552296062281\n",
      "SHOPPING : 2.2452894053932075\n",
      "BOOKS_AND_REFERENCE : 2.1437436533904997\n",
      "DATING : 1.8616721200496447\n",
      "VIDEO_PLAYERS : 1.7939749520478394\n",
      "MAPS_AND_NAVIGATION : 1.399074805370642\n",
      "FOOD_AND_DRINK : 1.241114746699763\n",
      "EDUCATION : 1.1621347173643235\n",
      "ENTERTAINMENT : 0.9590432133589079\n",
      "LIBRARIES_AND_DEMO : 0.9364774906916394\n",
      "AUTO_AND_VEHICLES : 0.9251946293580052\n",
      "HOUSE_AND_HOME : 0.8236488773552973\n",
      "WEATHER : 0.8010831546880289\n",
      "EVENTS : 0.7108202640189553\n",
      "PARENTING : 0.6544059573507841\n",
      "ART_AND_DESIGN : 0.6431230960171499\n",
      "COMICS : 0.6205573733498815\n",
      "BEAUTY : 0.5979916506826131\n",
      "\n",
      "\n"
     ]
    }
   ],
   "source": [
    "print('Category tab for Google Play Store apps')\n",
    "print('\\n')\n",
    "disp_freq_table(android_master, 1)\n",
    "print('\\n')"
   ]
  },
  {
   "cell_type": "code",
   "execution_count": 24,
   "metadata": {},
   "outputs": [
    {
     "name": "stdout",
     "output_type": "stream",
     "text": [
      "Genre tab for Google Play Store apps\n",
      "\n",
      "\n",
      "Tools : 8.450863138892023\n",
      "Entertainment : 6.070179397495205\n",
      "Education : 5.348076272142615\n",
      "Business : 4.592124562789123\n",
      "Productivity : 3.8925871601038025\n",
      "Lifestyle : 3.8925871601038025\n",
      "Finance : 3.700778517432021\n",
      "Medical : 3.5315355974275078\n",
      "Sports : 3.4638384294257025\n",
      "Personalization : 3.317161232088458\n",
      "Communication : 3.2381812027530184\n",
      "Action : 3.102786866749408\n",
      "Health & Fitness : 3.0802211440821394\n",
      "Photography : 2.944826808078529\n",
      "News & Magazines : 2.798149610741284\n",
      "Social : 2.6627552747376733\n",
      "Travel & Local : 2.324269434728647\n",
      "Shopping : 2.2452894053932075\n",
      "Books & Reference : 2.1437436533904997\n",
      "Simulation : 2.042197901387792\n",
      "Dating : 1.8616721200496447\n",
      "Arcade : 1.8503892587160105\n",
      "Video Players & Editors : 1.771409229380571\n",
      "Casual : 1.7601263680469368\n",
      "Maps & Navigation : 1.399074805370642\n",
      "Food & Drink : 1.241114746699763\n",
      "Puzzle : 1.1282861333634209\n",
      "Racing : 0.9928917973598105\n",
      "Role Playing : 0.9364774906916394\n",
      "Libraries & Demo : 0.9364774906916394\n",
      "Auto & Vehicles : 0.9251946293580052\n",
      "Strategy : 0.9026289066907368\n",
      "House & Home : 0.8236488773552973\n",
      "Weather : 0.8010831546880289\n",
      "Events : 0.7108202640189553\n",
      "Adventure : 0.6769716800180525\n",
      "Comics : 0.6092745120162473\n",
      "Beauty : 0.5979916506826131\n",
      "Art & Design : 0.5979916506826131\n",
      "Parenting : 0.49644589867990524\n",
      "Card : 0.4513144533453684\n",
      "Casino : 0.4287487306781\n",
      "Trivia : 0.4174658693444658\n",
      "Educational;Education : 0.39490014667719736\n",
      "Board : 0.38361728534356315\n",
      "Educational : 0.37233442400992894\n",
      "Education;Education : 0.33848584000902626\n",
      "Word : 0.2595058106735868\n",
      "Casual;Pretend Play : 0.2369400880063184\n",
      "Music : 0.20309150400541578\n",
      "Racing;Action & Adventure : 0.16924292000451313\n",
      "Puzzle;Brain Games : 0.16924292000451313\n",
      "Entertainment;Music & Video : 0.16924292000451313\n",
      "Casual;Brain Games : 0.1353943360036105\n",
      "Casual;Action & Adventure : 0.1353943360036105\n",
      "Arcade;Action & Adventure : 0.12411147466997631\n",
      "Action;Action & Adventure : 0.10154575200270789\n",
      "Educational;Pretend Play : 0.09026289066907368\n",
      "Simulation;Action & Adventure : 0.07898002933543946\n",
      "Parenting;Education : 0.07898002933543946\n",
      "Entertainment;Brain Games : 0.07898002933543946\n",
      "Board;Brain Games : 0.07898002933543946\n",
      "Parenting;Music & Video : 0.06769716800180525\n",
      "Educational;Brain Games : 0.06769716800180525\n",
      "Casual;Creativity : 0.06769716800180525\n",
      "Art & Design;Creativity : 0.06769716800180525\n",
      "Education;Pretend Play : 0.05641430666817105\n",
      "Role Playing;Pretend Play : 0.04513144533453684\n",
      "Education;Creativity : 0.04513144533453684\n",
      "Role Playing;Action & Adventure : 0.033848584000902626\n",
      "Puzzle;Action & Adventure : 0.033848584000902626\n",
      "Entertainment;Creativity : 0.033848584000902626\n",
      "Entertainment;Action & Adventure : 0.033848584000902626\n",
      "Educational;Creativity : 0.033848584000902626\n",
      "Educational;Action & Adventure : 0.033848584000902626\n",
      "Education;Music & Video : 0.033848584000902626\n",
      "Education;Brain Games : 0.033848584000902626\n",
      "Education;Action & Adventure : 0.033848584000902626\n",
      "Adventure;Action & Adventure : 0.033848584000902626\n",
      "Video Players & Editors;Music & Video : 0.02256572266726842\n",
      "Sports;Action & Adventure : 0.02256572266726842\n",
      "Simulation;Pretend Play : 0.02256572266726842\n",
      "Puzzle;Creativity : 0.02256572266726842\n",
      "Music;Music & Video : 0.02256572266726842\n",
      "Entertainment;Pretend Play : 0.02256572266726842\n",
      "Casual;Education : 0.02256572266726842\n",
      "Board;Action & Adventure : 0.02256572266726842\n",
      "Video Players & Editors;Creativity : 0.01128286133363421\n",
      "Trivia;Education : 0.01128286133363421\n",
      "Travel & Local;Action & Adventure : 0.01128286133363421\n",
      "Tools;Education : 0.01128286133363421\n",
      "Strategy;Education : 0.01128286133363421\n",
      "Strategy;Creativity : 0.01128286133363421\n",
      "Strategy;Action & Adventure : 0.01128286133363421\n",
      "Simulation;Education : 0.01128286133363421\n",
      "Role Playing;Brain Games : 0.01128286133363421\n",
      "Racing;Pretend Play : 0.01128286133363421\n",
      "Puzzle;Education : 0.01128286133363421\n",
      "Parenting;Brain Games : 0.01128286133363421\n",
      "Music & Audio;Music & Video : 0.01128286133363421\n",
      "Lifestyle;Pretend Play : 0.01128286133363421\n",
      "Lifestyle;Education : 0.01128286133363421\n",
      "Health & Fitness;Education : 0.01128286133363421\n",
      "Health & Fitness;Action & Adventure : 0.01128286133363421\n",
      "Entertainment;Education : 0.01128286133363421\n",
      "Communication;Creativity : 0.01128286133363421\n",
      "Comics;Creativity : 0.01128286133363421\n",
      "Casual;Music & Video : 0.01128286133363421\n",
      "Card;Action & Adventure : 0.01128286133363421\n",
      "Books & Reference;Education : 0.01128286133363421\n",
      "Art & Design;Pretend Play : 0.01128286133363421\n",
      "Art & Design;Action & Adventure : 0.01128286133363421\n",
      "Arcade;Pretend Play : 0.01128286133363421\n",
      "Adventure;Education : 0.01128286133363421\n"
     ]
    }
   ],
   "source": [
    "print('Genre tab for Google Play Store apps')\n",
    "print('\\n')\n",
    "disp_freq_table(android_master, 9)"
   ]
  },
  {
   "cell_type": "markdown",
   "metadata": {},
   "source": [
    "It can be seen that the `Games` genre is much less popular on Android than on IOS, this is due to 2 mains reasons:\n",
    " 1. Android features a much more customizable experience, thus driving the popularity of non-game apps much higher compared to Apple's ecosystem. Consumers can express their individuality more easily than on IOS. \n",
    " 2. They simply categorize their apps differently. For example `Family` apps are sometimes clearly games. Examples include `Red Embrace (BL/Yaoi Game)`, `Beauty Rental Shop`, `City Builder 2016: County Mall`... Thus their categorizations lead to a perceived underrepresentation of their presence.\n",
    " \n",
    " \n",
    " \n",
    " ### General Notes\n",
    " 1. Number of apps for a category does not always correlate with amount of users.\n",
    " 2. Not all app installs/reviews are equal. One on Facebook is obviously worth more than one on an app you use for 5 minutes.\n",
    " 3. Lastly the main metric we are interested in is how much time do individuals spend on types of apps?\n",
    " \n",
    " \n",
    " ### Most Popular Apps IOS\n",
    " \n",
    " At the end of the day, app popularity is the main driving metric. This is why it is useful to look at the top apps for each categories above. \n",
    " \n",
    "For the `android_master` list it is easy, as it features at `index 5` its `Number of installs`.\n",
    "For the `ios_master` list we unfortunately do not have this index. This is why we'll use `Rating_count` as a proxy. It is at index 5. \n"
   ]
  },
  {
   "cell_type": "code",
   "execution_count": 25,
   "metadata": {},
   "outputs": [
    {
     "name": "stdout",
     "output_type": "stream",
     "text": [
      "Social Networking : 71548.34905660378\n",
      "Photo & Video : 28441.54375\n",
      "Games : 22788.6696905016\n",
      "Music : 57326.530303030304\n",
      "Reference : 74942.11111111111\n",
      "Health & Fitness : 23298.015384615384\n",
      "Weather : 52279.892857142855\n",
      "Utilities : 18684.456790123455\n",
      "Travel : 28243.8\n",
      "Shopping : 26919.690476190477\n",
      "News : 21248.023255813954\n",
      "Navigation : 86090.33333333333\n",
      "Lifestyle : 16485.764705882353\n",
      "Entertainment : 14029.830708661417\n",
      "Food & Drink : 33333.92307692308\n",
      "Sports : 23008.898550724636\n",
      "Book : 39758.5\n",
      "Finance : 31467.944444444445\n",
      "Education : 7003.983050847458\n",
      "Productivity : 21028.410714285714\n",
      "Business : 7491.117647058823\n",
      "Catalogs : 4004.0\n",
      "Medical : 612.0\n"
     ]
    }
   ],
   "source": [
    "genres_ios = frequency_table(ios_master, 11)\n",
    "\n",
    "for i in genres_ios:\n",
    "    total = 0\n",
    "    len_genre = 0\n",
    "    for val in ios_master:\n",
    "        genre_app = val[-5]\n",
    "        if genre_app == i:            \n",
    "            n_ratings = float(val[5])\n",
    "            total += n_ratings\n",
    "            len_genre += 1\n",
    "    avg_n_ratings = total / len_genre\n",
    "    print(i, ':', avg_n_ratings)\n",
    "\n"
   ]
  },
  {
   "cell_type": "markdown",
   "metadata": {},
   "source": [
    "The two most popular categories are `Navigation` and `Social Networking`. Due to the popularity of juggernauts such as Google Maps and Facebook, one can assume their real average rating to be much lower. \n",
    "\n",
    "The `Weather` type is quite popular, but one can assume that people do not spend much time at all on these apps, thus rendering them useless for our app maker.\n",
    "\n",
    "`Food & Drink` seems like a promising segment, due to its limitless amount of subjects, its prolonged user utility, and ease of development due to strong online ressources on the subject.\n",
    "\n",
    "Checking the top 5 apps in the segment, we get:"
   ]
  },
  {
   "cell_type": "code",
   "execution_count": 26,
   "metadata": {},
   "outputs": [
    {
     "name": "stdout",
     "output_type": "stream",
     "text": [
      "Starbucks : 303856\n",
      "Domino's Pizza USA : 258624\n",
      "OpenTable - Restaurant Reservations : 113936\n",
      "Allrecipes Dinner Spinner : 109349\n",
      "DoorDash - Food Delivery : 25947\n",
      "UberEATS: Uber for Food Delivery : 17865\n",
      "Postmates - Food Delivery, Faster : 9519\n",
      "Dunkin' Donuts - Get Offers, Coupons & Rewards : 9068\n",
      "Chick-fil-A : 5665\n",
      "McDonald's : 4050\n",
      "Deliveroo: Restaurant Delivery - Order Food Nearby : 1702\n",
      "SONIC Drive-In : 1645\n",
      "Nowait Guest : 1625\n",
      "7-Eleven, Inc. : 1356\n",
      "Outback : 805\n",
      "Bon Appetit : 750\n",
      "Starbucks Keyboard : 457\n",
      "Whataburger : 197\n",
      "Delish Eatmoji Keyboard : 154\n",
      "Lieferheld - Delicious food delivery service : 29\n",
      "Lieferando.de : 29\n",
      "McDo France : 22\n",
      "Chefkoch - Rezepte, Kochen, Backen & Kochbuch : 20\n",
      "Youmiam : 9\n",
      "Marmiton Twist : 2\n",
      "Open Food Facts : 1\n"
     ]
    }
   ],
   "source": [
    "for app in ios_master:\n",
    "    if app[-5] == 'Food & Drink':\n",
    "        print(app[1], ':', app[5]) \n"
   ]
  },
  {
   "cell_type": "markdown",
   "metadata": {},
   "source": [
    "Thus the high average ratings come from mostly A-list brands and food delivery services, both outside the scope of our company. This segment hence has low actual use for our company.\n",
    "\n",
    "The `Education` genre is another promising one, due to it's immense scalibility and low barrier of entry. Let us check if this segment is heavily biased towards immense apps:\n",
    "\n"
   ]
  },
  {
   "cell_type": "code",
   "execution_count": 27,
   "metadata": {},
   "outputs": [
    {
     "name": "stdout",
     "output_type": "stream",
     "text": [
      "Duolingo - Learn Spanish, French and more : 162701\n",
      "Guess My Age  Math Magic : 123190\n",
      "Lumosity - Brain Training : 96534\n",
      "Elevate - Brain Training and Games : 58092\n",
      "Fit Brains Trainer : 46363\n",
      "ClassDojo : 35440\n",
      "Memrise: learn languages : 20383\n",
      "Peak - Brain Training : 20322\n",
      "Canvas by Instructure : 19981\n",
      "ABCmouse.com - Early Learning Academy : 18749\n",
      "Quizlet: Study Flashcards, Languages & Vocabulary : 16683\n",
      "Photomath - Camera Calculator : 16523\n",
      "iTunes U : 15801\n",
      "Blackboard Mobile Learn™ : 13567\n",
      "Star Chart : 13482\n",
      "Remind: Fast, Efficient School Messaging : 9796\n",
      "PBS KIDS Video : 8651\n",
      "Toca Kitchen Monsters : 8062\n",
      "Toca Hair Salon - Christmas Gift : 8049\n",
      "Edmodo : 7197\n",
      "Prodigy Math Game : 6683\n",
      "Epic! - Unlimited Books for Kids : 6676\n",
      "ChineseSkill -Learn Mandarin Chinese Language Free : 6077\n",
      "Google Classroom : 5942\n",
      "TED : 5782\n",
      "Khan Academy: you can learn anything : 5459\n",
      "Got It - Homework Help Math, Chem, Physics Solver : 4903\n",
      "PowerSchool Mobile : 4547\n",
      "SkyView® Free - Explore the Universe : 4188\n",
      "Hopscotch : 4057\n",
      "IXL - Math and English : 3546\n",
      "Simply Piano by JoyTunes - Learn & play piano : 2925\n",
      "Kids A-Z : 2887\n",
      "Infinite Campus Mobile Portal : 2286\n",
      "PlayKids - Educational Cartoons and Games for Kids : 2196\n",
      "Memorado Brain Training for Memory & Mindfulness : 2067\n",
      "Bookshelf : 2064\n",
      "Mathway - Math Problem Solver : 1854\n",
      "Schoology : 1777\n",
      "HelloTalk Language Exchange Learning App : 1619\n",
      "SpellingCity : 1566\n",
      "Nick Jr. : 1541\n",
      "Babbel – Learn Languages Spanish, French & more : 1533\n",
      "Yup - Homework Help with Math & Science Tutors : 1424\n",
      "Mondly: Learn 33 Languages: Spanish English French : 1395\n",
      "WWF Together : 1385\n",
      "Tinycards - Learn with Fun, Free Flashcards : 1131\n",
      "Nearpod : 1057\n",
      "Starfall FREE : 1019\n",
      "Reflex Student : 1010\n",
      "GoldieBlox and the Movie Machine : 1000\n",
      "Pearson eText : 981\n",
      "codeSpark Academy with The Foos - coding for kids : 977\n",
      "Dr. Panda Restaurant Asia : 853\n",
      "NOGGIN - Preschool Shows & Educational Kids Videos : 782\n",
      "Tynker - Learn to Code. Programming Made Easy. : 771\n",
      "BrainHQ - Brain Training : 684\n",
      "Top Hat Lecture : 668\n",
      "Pearson eText for Schools : 609\n",
      "Curious World: Games, Videos, Books for Children : 604\n",
      "McGraw-Hill K-12 ConnectED Mobile : 594\n",
      "Socrative Student : 581\n",
      "Swift Playgrounds : 578\n",
      "MarcoPolo Ocean : 529\n",
      "TestNav : 491\n",
      "Starfall Learn to Read : 474\n",
      "Speakaboos Reading App: Stories & Songs for Kids : 440\n",
      "Bloxels: Build, Play & Share Your Own Video Games : 382\n",
      "GoNoodle Kids : 372\n",
      "Global Shark Tracker : 336\n",
      "The Robot Factory by Tinybop : 335\n",
      "Daniel Tiger’s Day & Night : 314\n",
      "Kahoot! Play Fun Learning Games : 300\n",
      "Spanish SOLO: Learn Spanish With Lessons On The Go : 275\n",
      "Math 42 : 248\n",
      "Star Walk 2 Ads+ Night Sky Map - Stars and Planets : 161\n",
      "Toca Dance Free : 149\n",
      "Endless Learning Academy : 143\n",
      "270toWin : 141\n",
      "Win the White House : 123\n",
      "Sago Mini Babies Dress Up : 115\n",
      "Nancy Drew Codes and Clues Mystery Coding Game : 110\n",
      "1600 : 110\n",
      "BEAKER by THIX : 94\n",
      "Highlights™ Shapes - Preschool Learning Puzzles : 90\n",
      "Little Panda's Candy Shop - Lollipop Factory : 84\n",
      "Mathpix - Solve and graph math using pictures : 83\n",
      "Blue Apprentice Elementary Science Game by Galxyz : 79\n",
      "PINKFONG Birthday Party : 70\n",
      "Hopster: Kids TV, Nursery Rhymes, Music, Fun Games : 58\n",
      "Sago Mini Holiday Trucks and Diggers : 56\n",
      "Dr. Panda Toy Cars Free : 51\n",
      "Virry Educational. Play, learn with real animals : 50\n",
      "Highlights Monster Day : 49\n",
      "PlayKids Learn - Learning through play : 49\n",
      "PBS KIDS ScratchJr : 38\n",
      "Lemon Lumberjack's Letter Mill : 34\n",
      "Ready Jet Go! Space Explorer : 34\n",
      "Chinese Recipes - Asian cuisine : 32\n",
      "Nature Cat's Great Outdoors : 31\n",
      "Show My Homework : 17\n",
      "PINKFONG 123 Numbers : 17\n",
      "Aquarium VR : 12\n",
      "Little Panda Mini Games-3D : 9\n",
      "Stylish School Timetable : 7\n",
      "Merry Christmas -Activities : 7\n",
      "Mastering the piano with Lang Lang : 6\n",
      "Baby Panda's Carnival : 6\n",
      "Driving test 2017 : 5\n",
      "Cutie Patootie - Xmas Surprise : 5\n",
      "Free IQ Test: Calculate your IQ : 5\n",
      "Beautiful Japanese Handwriting for iPhone : 0\n",
      "GhostCallDX : 0\n",
      "Baby Learns Transportation : 0\n",
      "Baby Panda's Bath Time : 0\n",
      "Beautiful Japanese Handwriting : 0\n",
      "Spring Festival by BabyBus : 0\n",
      "Dinosaur Planet : 0\n"
     ]
    }
   ],
   "source": [
    "for app in ios_master:\n",
    "    if app[-5] == 'Education':\n",
    "        print(app[1], ':', app[5]) \n"
   ]
  },
  {
   "cell_type": "markdown",
   "metadata": {},
   "source": [
    "It can be seen that bar the few top apps, many small apps have quite a strong number of reviews. \n",
    "\n",
    "The subject vary from languages(`Duolinguo`, `HelloTalk`, `Mondly`), brain-branded games (`Lumosity`, `Elevate`, `Memorado`), kid orientated apps (`Kids A-Z`, `ABCmouse.com`, `Toca Kitchen Monsters`) and others. \n",
    "\n",
    "Many of these are inspired on already existing ideas and some strong 'learning' marketing. Due to how hard it is to gauge our own learning skill, many pseudo-science learning apps are made popular. IQ-based apps is a classic example.\n",
    "\n",
    "This segment shows some potential for our company, and it should be looked into more through the Android dataset.\n",
    "\n",
    "### Most Popular Apps Google Play\n",
    "\n",
    "The android popularity gauge is slightly misleading. It features it in this manner:\n"
   ]
  },
  {
   "cell_type": "code",
   "execution_count": 28,
   "metadata": {},
   "outputs": [
    {
     "name": "stdout",
     "output_type": "stream",
     "text": [
      "1,000,000+ : 15.728308699086089\n",
      "100,000+ : 11.553650005641432\n",
      "10,000,000+ : 10.549475346947986\n",
      "10,000+ : 10.199706645605325\n",
      "1,000+ : 8.394448832223851\n",
      "100+ : 6.916393997517771\n",
      "5,000,000+ : 6.826131106848697\n",
      "500,000+ : 5.562450637481666\n",
      "50,000+ : 4.77265034412727\n",
      "5,000+ : 4.5131445334536835\n",
      "10+ : 3.542818458761142\n",
      "500+ : 3.2494640640866526\n",
      "50,000,000+ : 2.3017037120613786\n",
      "100,000,000+ : 2.1324607920568655\n",
      "50+ : 1.9180864267178157\n",
      "5+ : 0.7898002933543947\n",
      "1+ : 0.5077287600135394\n",
      "500,000,000+ : 0.270788672007221\n",
      "1,000,000,000+ : 0.2256572266726842\n",
      "0+ : 0.04513144533453684\n"
     ]
    }
   ],
   "source": [
    "disp_freq_table(android_master, 5)"
   ]
  },
  {
   "cell_type": "markdown",
   "metadata": {},
   "source": [
    "The data is not really precise, and it would be hard to make accurate statements with it. But our goal is to understand key trends, which still can be analysed using this rough data. Since we cannot directly analyse this data, we need to delete the commas and the `+` signs, which is done below.\n",
    "\n",
    "The fonction below also asseses, such as our IOS program above, the average number of installs per category."
   ]
  },
  {
   "cell_type": "code",
   "execution_count": 29,
   "metadata": {},
   "outputs": [
    {
     "name": "stdout",
     "output_type": "stream",
     "text": [
      "ART_AND_DESIGN : 1986335.0877192982\n",
      "AUTO_AND_VEHICLES : 647317.8170731707\n",
      "BEAUTY : 513151.88679245283\n",
      "BOOKS_AND_REFERENCE : 8767811.894736841\n",
      "BUSINESS : 1712290.1474201474\n",
      "COMICS : 817657.2727272727\n",
      "COMMUNICATION : 38456119.167247385\n",
      "DATING : 854028.8303030303\n",
      "EDUCATION : 1833495.145631068\n",
      "ENTERTAINMENT : 11640705.88235294\n",
      "EVENTS : 253542.22222222222\n",
      "FINANCE : 1387692.475609756\n",
      "FOOD_AND_DRINK : 1924897.7363636363\n",
      "HEALTH_AND_FITNESS : 4188821.9853479853\n",
      "HOUSE_AND_HOME : 1331540.5616438356\n",
      "LIBRARIES_AND_DEMO : 638503.734939759\n",
      "LIFESTYLE : 1437816.2687861272\n",
      "GAME : 15588015.603248259\n",
      "FAMILY : 3697848.1731343283\n",
      "MEDICAL : 120550.61980830671\n",
      "SOCIAL : 23253652.127118643\n",
      "SHOPPING : 7036877.311557789\n",
      "PHOTOGRAPHY : 17840110.40229885\n",
      "SPORTS : 3638640.1428571427\n",
      "TRAVEL_AND_LOCAL : 13984077.710144928\n",
      "TOOLS : 10801391.298666667\n",
      "PERSONALIZATION : 5201482.6122448975\n",
      "PRODUCTIVITY : 16787331.344927534\n",
      "PARENTING : 542603.6206896552\n",
      "WEATHER : 5074486.197183099\n",
      "VIDEO_PLAYERS : 24727872.452830188\n",
      "NEWS_AND_MAGAZINES : 9549178.467741935\n",
      "MAPS_AND_NAVIGATION : 4056941.7741935486\n"
     ]
    }
   ],
   "source": [
    "pop_android = frequency_table(android_master, 1)\n",
    "\n",
    "for i in pop_android:\n",
    "    total = 0\n",
    "    len_category = 0\n",
    "    for app in android_master:\n",
    "        category_app = app[1]\n",
    "        if category_app == i:\n",
    "            n_installs = app[5]\n",
    "            n_installs = n_installs.replace(',', '')\n",
    "            n_installs = n_installs.replace('+', '')\n",
    "            total += float(n_installs)\n",
    "            len_category += 1\n",
    "    average_installs = total / len_category\n",
    "    print(i, ':', average_installs)"
   ]
  },
  {
   "cell_type": "markdown",
   "metadata": {},
   "source": [
    "The `Communications` category is hugely popular but once again is it due to apps such as WhatsApp and Facebook Messenger? \n",
    "Let's check it:"
   ]
  },
  {
   "cell_type": "code",
   "execution_count": 30,
   "metadata": {},
   "outputs": [
    {
     "name": "stdout",
     "output_type": "stream",
     "text": [
      "WhatsApp Messenger : 1,000,000,000+\n",
      "imo beta free calls and text : 100,000,000+\n",
      "Android Messages : 100,000,000+\n",
      "Google Duo - High Quality Video Calls : 500,000,000+\n",
      "Messenger – Text and Video Chat for Free : 1,000,000,000+\n",
      "imo free video calls and chat : 500,000,000+\n",
      "Skype - free IM & video calls : 1,000,000,000+\n",
      "Who : 100,000,000+\n",
      "GO SMS Pro - Messenger, Free Themes, Emoji : 100,000,000+\n",
      "LINE: Free Calls & Messages : 500,000,000+\n",
      "Google Chrome: Fast & Secure : 1,000,000,000+\n",
      "Firefox Browser fast & private : 100,000,000+\n",
      "UC Browser - Fast Download Private & Secure : 500,000,000+\n",
      "Gmail : 1,000,000,000+\n",
      "Hangouts : 1,000,000,000+\n",
      "Messenger Lite: Free Calls & Messages : 100,000,000+\n",
      "Kik : 100,000,000+\n",
      "KakaoTalk: Free Calls & Text : 100,000,000+\n",
      "Opera Mini - fast web browser : 100,000,000+\n",
      "Opera Browser: Fast and Secure : 100,000,000+\n",
      "Telegram : 100,000,000+\n",
      "Truecaller: Caller ID, SMS spam blocking & Dialer : 100,000,000+\n",
      "UC Browser Mini -Tiny Fast Private & Secure : 100,000,000+\n",
      "Viber Messenger : 500,000,000+\n",
      "WeChat : 100,000,000+\n",
      "Yahoo Mail – Stay Organized : 100,000,000+\n",
      "BBM - Free Calls & Messages : 100,000,000+\n"
     ]
    }
   ],
   "source": [
    "for app in android_master:\n",
    "    if app[1] == 'COMMUNICATION' and (app[5] == '1,000,000,000+'\n",
    "                                      or app[5] == '500,000,000+'\n",
    "                                      or app[5] == '100,000,000+'):\n",
    "        print(app[0], ':', app[5])"
   ]
  },
  {
   "cell_type": "markdown",
   "metadata": {},
   "source": [
    "Indeed these apps and other juggernauts are not relevant to our analysis skew heavily this average number of installs per category."
   ]
  },
  {
   "cell_type": "code",
   "execution_count": 31,
   "metadata": {},
   "outputs": [
    {
     "data": {
      "text/plain": [
       "3603485.3884615386"
      ]
     },
     "execution_count": 31,
     "metadata": {},
     "output_type": "execute_result"
    }
   ],
   "source": [
    "under_100_m = []\n",
    "\n",
    "for app in android_master:\n",
    "    n_installs = app[5]\n",
    "    n_installs = n_installs.replace(',', '')\n",
    "    n_installs = n_installs.replace('+', '')\n",
    "    if (app[1] == 'COMMUNICATION') and (float(n_installs) < 100000000):\n",
    "        under_100_m.append(float(n_installs))\n",
    "        \n",
    "sum(under_100_m) / len(under_100_m)"
   ]
  },
  {
   "cell_type": "markdown",
   "metadata": {},
   "source": [
    "The average number of downloads for such category, without the 100 mil + downloads is an order of magnitude lower!\n",
    "\n",
    "Similar statements can be made for `Categories` such as `MAPS_AND_NAVIGATION` or `SOCIAL`.\n",
    "\n",
    "Going back to our observation that `Education` related games might be what we are looking for, let's look more closely at the `Education` category."
   ]
  },
  {
   "cell_type": "code",
   "execution_count": 32,
   "metadata": {},
   "outputs": [
    {
     "name": "stdout",
     "output_type": "stream",
     "text": [
      "English Communication - Learn English for Chinese (Learn English for Chinese) : 100,000+\n",
      "Khan Academy : 5,000,000+\n",
      "Ai La Trieu Phu - ALTP Free : 100,000+\n",
      "Learn Spanish - Español : 1,000,000+\n",
      "Speed Reading : 500,000+\n",
      "English for beginners : 1,000,000+\n",
      "Mermaids : 5,000,000+\n",
      "Learn Japanese, Korean, Chinese Offline & Free : 1,000,000+\n",
      "Kids Mode : 500,000+\n",
      "Dinosaurs Coloring Pages : 500,000+\n",
      "Cars Coloring Pages : 1,000,000+\n",
      "Math Tricks : 10,000,000+\n",
      "Learn English Words Free : 5,000,000+\n",
      "Japanese / English one-shop search dictionary - Free Japanese - English - Japanese dictionary application : 50,000+\n",
      "English speaking texts : 1,000,000+\n",
      "Thai Handwriting : 1,000,000+\n",
      "THAI DICT 2018 : 1,000,000+\n",
      "Kanji test · Han search Kanji training (free version) : 1,000,000+\n",
      "Flippy Campus - Buy & sell on campus at a discount : 500,000+\n",
      "Free intellectual training game application | : 1,000,000+\n",
      "ABC Preschool Free : 5,000,000+\n",
      "PINKFONG Baby Shark : 1,000,000+\n",
      "English words application mikan : 500,000+\n",
      "Learn English for beginners : 500,000+\n",
      "Listen and learn English in seven days : 100,000+\n",
      "Lumosity: #1 Brain Games & Cognitive Training App : 10,000,000+\n",
      "Learn English from Persian: Persian to English : 100,000+\n",
      "English with Lingualeo : 5,000,000+\n",
      "Quizlet: Learn Languages & Vocab with Flashcards : 10,000,000+\n",
      "Udemy - Online Courses : 1,000,000+\n",
      "Coursera: Online courses : 5,000,000+\n",
      "edX - Online Courses by Harvard, MIT & more : 1,000,000+\n",
      "Elevate - Brain Training Games : 5,000,000+\n",
      "NeuroNation - Focus and Brain Training : 5,000,000+\n",
      "Memorado - Brain Games : 1,000,000+\n",
      "Lynda - Online Training Videos : 1,000,000+\n",
      "Brilliant : 1,000,000+\n",
      "CppDroid - C/C++ IDE : 1,000,000+\n",
      "Quiz&Learn Python : 10,000+\n",
      "C++ Tutorials : 50,000+\n",
      "C++ Programming : 1,000,000+\n",
      "C Programming : 1,000,000+\n",
      "Udacity - Lifelong Learning : 1,000,000+\n",
      "Learn C++ : 1,000,000+\n",
      "Learn programming : 1,000,000+\n",
      "Learn JavaScript : 1,000,000+\n",
      "Learn Java : 1,000,000+\n",
      "Learn HTML : 1,000,000+\n",
      "Programming Hub, Learn to code : 1,000,000+\n",
      "Learn SQL : 1,000,000+\n",
      "Ready4 SAT (Prep4 SAT) : 100,000+\n",
      "Socratic - Math Answers & Homework Help : 1,000,000+\n",
      "Ready4 GMAT (Prep4 GMAT) : 100,000+\n",
      "Pocket GMAT Math : 10,000+\n",
      "GMAT Question Bank : 10,000+\n",
      "GRE Tutor : 50,000+\n",
      "GRE Flashcards : 500,000+\n",
      "play2prep: ACT, SAT prep : 100,000+\n",
      "SAT Test : 100,000+\n",
      "GMAT Math Flashcards : 100,000+\n",
      "Pocket SAT Math : 10,000+\n",
      "TOEFL Prep & Practice from Magoosh : 100,000+\n",
      "GRE Prep & Practice by Magoosh : 100,000+\n",
      "GRE® Flashcards by Kaplan : 50,000+\n",
      "SAT Vocabulary : 50,000+\n",
      "Magoosh GMAT Prep & Practice : 100,000+\n",
      "SAT Flashcards: Prep & Vocabulary : 100,000+\n",
      "LinkedIn Learning: Online Courses to Learn Skills : 1,000,000+\n",
      "Learn English with Phrases : 1,000,000+\n",
      "Free english course : 5,000,000+\n",
      "Learn 50 languages : 5,000,000+\n",
      "Rosetta Stone: Learn to Speak & Read New Languages : 5,000,000+\n",
      "Babbel – Learn Spanish : 1,000,000+\n",
      "Mango Languages: Lovable Language Courses : 500,000+\n",
      "Learn English with Aco : 1,000,000+\n",
      "Learn to Speak English : 1,000,000+\n",
      "Learn English with Wlingua : 10,000,000+\n",
      "My Class Schedule: Timetable : 1,000,000+\n",
      "Study Checker : 500,000+\n",
      "My Study Life - School Planner : 1,000,000+\n",
      "HomeWork : 1,000,000+\n",
      "Next Gen Science Standards : 50,000+\n",
      "myHomework Student Planner : 1,000,000+\n",
      "Teacher's Gradebook - Additio : 100,000+\n",
      "Common Core : 100,000+\n",
      "Homework Planner : 100,000+\n",
      "TeachersPayTeachers : 100,000+\n",
      "Socrative Teacher : 100,000+\n",
      "Training schedule - AllUniver : 10,000+\n",
      "Remind: School Communication : 10,000,000+\n",
      "Google Classroom : 10,000,000+\n",
      "ClassDojo : 10,000,000+\n",
      "Lerni. Learn languages. : 500,000+\n",
      "Learn languages, grammar & vocabulary with Memrise : 10,000,000+\n",
      "Innovative: Learn 34 Languages : 500,000+\n",
      "Chegg Study - Homework Help : 1,000,000+\n",
      "Canvas Student : 1,000,000+\n",
      "Timetable : 1,000,000+\n",
      "EasyBib: Citation Generator : 100,000+\n",
      "HelloTalk — Chat, Speak & Learn Foreign Languages : 5,000,000+\n",
      "SoloLearn: Learn to Code for Free : 1,000,000+\n",
      "Kids Learn Languages by Mondly : 100,000+\n",
      "Blinkist - Nonfiction Books : 1,000,000+\n"
     ]
    }
   ],
   "source": [
    "for app in android_master:\n",
    "    if app[1] == 'EDUCATION' and ( 1000 < float(n_installs)):\n",
    "        print(app[0], ':', app[5])"
   ]
  },
  {
   "cell_type": "markdown",
   "metadata": {},
   "source": [
    "Here we are looking at all the `Education` apps with more that 1000 downloads. \n",
    "\n",
    "Roughly the same observations could be said as on IOS's similar category. \n",
    "\n",
    "Brain games or IQ training type of games are notably absent, most probably due to them not being in the `Education` section. The Education section has a more serious connotation to it on Android, [as seen here](https://play.google.com/store/apps/category/EDUCATION?hl=en&gl=US).\n",
    "\n",
    "If one [looks at the puzzle subcategory](https://play.google.com/store/apps/category/GAME_PUZZLE?hl=en&gl=US) they'll notice all the brain training and IQ games there!\n",
    "\n",
    "\n",
    "\n",
    "\n",
    "\n"
   ]
  },
  {
   "cell_type": "code",
   "execution_count": 33,
   "metadata": {},
   "outputs": [
    {
     "name": "stdout",
     "output_type": "stream",
     "text": [
      "Solitaire : 10,000,000+\n",
      "Sonic Dash : 100,000,000+\n",
      "PAC-MAN : 100,000,000+\n",
      "Race the Traffic Moto : 10,000,000+\n",
      "Marble - Temple Quest : 10,000,000+\n",
      "Shooting King : 10,000,000+\n",
      "Geometry Dash World : 10,000,000+\n",
      "Roll the Ball® - slide puzzle : 100,000,000+\n",
      "Farm Fruit Pop: Party Time : 1,000,000+\n",
      "Piano Tiles 2™ : 100,000,000+\n",
      "Pokémon GO : 100,000,000+\n",
      "Paint Hit : 10,000,000+\n",
      "Rolly Vortex : 10,000,000+\n",
      "Woody Puzzle : 1,000,000+\n",
      "Stack Jump : 10,000,000+\n",
      "Extreme Car Driving Simulator : 100,000,000+\n",
      "Bricks n Balls : 1,000,000+\n",
      "The Fish Master! : 1,000,000+\n",
      "Color Road : 10,000,000+\n",
      "Draw In : 10,000,000+\n",
      "Looper! : 1,000,000+\n",
      "Trivia Crack : 100,000,000+\n",
      "Baseball Boy! : 10,000,000+\n",
      "Hello Stars : 10,000,000+\n",
      "Tank Stars : 10,000,000+\n",
      "Hole.io : 10,000,000+\n",
      "Flip the Gun - Simulator Game : 10,000,000+\n",
      "Mad Skills BMX 2 : 1,000,000+\n",
      "MMX Hill Dash 2 – Offroad Truck, Car & Bike Racing : 1,000,000+\n",
      "Word Link : 10,000,000+\n",
      "Last Day on Earth: Survival : 10,000,000+\n",
      "Partymasters - Fun Idle Game : 10,000,000+\n",
      "Harry Potter: Hogwarts Mystery : 10,000,000+\n",
      "Offroad Outlaws : 1,000,000+\n",
      "MLB TAP SPORTS BASEBALL 2018 : 1,000,000+\n",
      "Cooking Madness - A Chef's Restaurant Games : 10,000,000+\n",
      "Ice Crush 2018 - A new Puzzle Matching Adventure : 1,000,000+\n",
      "TerraGenesis - Space Colony : 1,000,000+\n",
      "SHADOWGUN LEGENDS : 1,000,000+\n",
      "RULES OF SURVIVAL : 10,000,000+\n",
      "Mafia City : 10,000,000+\n",
      "Cash, Inc. Money Clicker Game & Business Adventure : 10,000,000+\n",
      "Dino War: Rise of Beasts : 1,000,000+\n",
      "Tokyo Ghoul: Dark War : 1,000,000+\n",
      "Guns of Glory : 10,000,000+\n",
      "Final Fantasy XV: A New Empire : 10,000,000+\n",
      "Chapters: Interactive Stories : 1,000,000+\n",
      "Honkai Impact 3rd : 1,000,000+\n",
      "Angry Birds 2 : 100,000,000+\n",
      "The Sims™ FreePlay : 10,000,000+\n",
      "Best Fiends - Free Puzzle Game : 10,000,000+\n",
      "Choices: Stories You Play : 10,000,000+\n",
      "Solitaire TriPeaks : 10,000,000+\n",
      "The Walking Dead: Road to Survival : 10,000,000+\n",
      "Hustle Castle: Fantasy Kingdom : 10,000,000+\n",
      "Game of Thrones: Conquest™ : 1,000,000+\n",
      "Candy Crush Saga : 500,000,000+\n",
      "8 Ball Pool : 100,000,000+\n",
      "Subway Surfers : 1,000,000,000+\n",
      "Candy Crush Soda Saga : 100,000,000+\n",
      "Toon Blast : 10,000,000+\n",
      "Clash Royale : 100,000,000+\n",
      "Clash of Clans : 100,000,000+\n",
      "Plants vs. Zombies FREE : 100,000,000+\n",
      "Super Jim Jump - pixel 3d : 1,000,000+\n",
      "Pou : 500,000,000+\n",
      "Flow Free : 100,000,000+\n",
      "Homescapes : 10,000,000+\n",
      "Wordscapes : 10,000,000+\n",
      "My Talking Angela : 100,000,000+\n",
      "slither.io : 100,000,000+\n",
      "Cooking Fever : 100,000,000+\n",
      "Yes day : 100,000,000+\n",
      "Fishdom : 10,000,000+\n",
      "Galaxy Attack: Alien Shooter : 10,000,000+\n",
      "Score! Hero : 100,000,000+\n",
      "Jewels Star: OZ adventure : 1,000,000+\n",
      "Dream League Soccer 2018 : 100,000,000+\n",
      "Sweet Fruit Candy : 10,000,000+\n",
      "Fruits Bomb : 10,000,000+\n",
      "My Talking Tom : 500,000,000+\n",
      "Sniper 3D Gun Shooter: Free Shooting Games - FPS : 100,000,000+\n",
      "Rider : 10,000,000+\n",
      "Zombie Tsunami : 100,000,000+\n",
      "Helix Jump : 100,000,000+\n",
      "Crossy Road : 100,000,000+\n",
      "Temple Run 2 : 500,000,000+\n",
      "Talking Tom Gold Run : 100,000,000+\n",
      "Alto's Adventure : 10,000,000+\n",
      "DEER HUNTER 2018 : 10,000,000+\n",
      "Cover Fire: offline shooting games for free : 10,000,000+\n",
      "Soul Knight : 10,000,000+\n",
      "Major Mayhem : 10,000,000+\n",
      "DINO HUNTER: DEADLY SHORES : 10,000,000+\n",
      "Power Rangers Dino Charge : 10,000,000+\n",
      "Zombie Hunter: Post Apocalypse Survival Games : 10,000,000+\n",
      "Agar.io : 100,000,000+\n",
      "Zombie Hunter King : 1,000,000+\n",
      "Battlelands Royale : 1,000,000+\n",
      "Once Upon a Tower : 1,000,000+\n",
      "diep.io : 10,000,000+\n",
      "Arrow.io : 10,000,000+\n",
      "BEYBLADE BURST app : 10,000,000+\n",
      "Dragon Hills : 10,000,000+\n",
      "Bus Rush: Subway Edition : 100,000,000+\n",
      "Quiz: Logo game : 10,000,000+\n",
      "Jewels Legend - Match 3 Puzzle : 10,000,000+\n",
      "Bubble Shooter : 10,000,000+\n",
      "Blossom Blast Saga : 10,000,000+\n",
      "Traffic Racer : 100,000,000+\n",
      "Hill Climb Racing : 100,000,000+\n",
      "Candy Bomb : 10,000,000+\n",
      "Zombie Catchers : 10,000,000+\n",
      "Gems or jewels ? : 10,000,000+\n",
      "Angry Birds Rio : 100,000,000+\n",
      "Cut the Rope FULL FREE : 100,000,000+\n",
      "Hungry Shark Evolution : 100,000,000+\n",
      "Power Pop Bubbles : 10,000,000+\n",
      "Angry Birds Classic : 100,000,000+\n",
      "Hill Climb Racing 2 : 100,000,000+\n",
      "Fruit Block - Puzzle Legend : 10,000,000+\n",
      "Bubble Shooter Space : 1,000,000+\n",
      "1LINE – One Line with One Touch : 10,000,000+\n",
      "Stick War: Legacy : 10,000,000+\n",
      "Marble Woka Woka 2018 - Bubble Shooter Match 3 : 10,000,000+\n",
      "Pixel Art: Color by Number Game : 10,000,000+\n",
      "Rush : 10,000,000+\n",
      "Jetpack Joyride : 100,000,000+\n",
      "Rope Hero Return of a Legend : 1,000,000+\n",
      "Draw a Stickman: EPIC 2 Free : 10,000,000+\n",
      "Super Mario Run : 100,000,000+\n",
      "STARDOM: THE A-LIST : 1,000,000+\n",
      "Glow Hockey : 100,000,000+\n",
      "Asphalt 8: Airborne : 100,000,000+\n",
      "Lep's World 2 🍀🍀 : 100,000,000+\n",
      "Real City Car Driver : 10,000,000+\n",
      "Draw A Stickman : 1,000,000+\n",
      "Four In A Line : 1,000,000+\n",
      "MORTAL KOMBAT X : 10,000,000+\n",
      "Critical Ops : 10,000,000+\n",
      "FRONTLINE COMMANDO: D-DAY : 10,000,000+\n",
      "Fruit Ninja® : 100,000,000+\n",
      "Vector : 100,000,000+\n",
      "Dr. Driving : 100,000,000+\n",
      "Bike Race Free - Top Motorcycle Racing Games : 100,000,000+\n",
      "Smash Hit : 100,000,000+\n",
      "Temple Run : 100,000,000+\n",
      "G-Switch 2 : 1,000,000+\n",
      "Geometry Dash Lite : 100,000,000+\n",
      "Car Driving Simulator Drift : 1,000,000+\n",
      "RC City Police Heavy Traffic Racer : 1,000,000+\n",
      "Motorbike Driving Simulator 3D : 10,000,000+\n",
      "Solitaire! : 10,000,000+\n",
      "iGun Pro -The Original Gun App : 10,000,000+\n",
      "NinJump : 10,000,000+\n",
      "Fidget Spinner : 10,000,000+\n",
      "KIM KARDASHIAN: HOLLYWOOD : 10,000,000+\n",
      "Ant Smasher by Best Cool & Fun Games : 100,000,000+\n",
      "Cheating Tom 3 - Genius School : 10,000,000+\n",
      "Rope'n'Fly 4 : 10,000,000+\n",
      "Cops N Robbers 2 : 1,000,000+\n",
      "Rope'n'Fly 3 - Dusk Till Dawn : 10,000,000+\n",
      "Drag'n'Boom : 1,000,000+\n",
      "Cops N Robbers : 1,000,000+\n",
      "Mopar Drag N Brag : 1,000,000+\n",
      "Draw N Guess Multiplayer : 1,000,000+\n",
      "The Maze Runner : 10,000,000+\n",
      "Q*bert: Rebooted : 1,000,000+\n",
      "Gun Shoot War Q : 1,000,000+\n",
      "Stupid Zombies : 10,000,000+\n",
      "Dino T-Rex : 10,000,000+\n",
      "Identity V : 1,000,000+\n",
      "V for Voodoo : 1,000,000+\n",
      "Casino X - Free Online Slots : 1,000,000+\n",
      "Slendrina X : 1,000,000+\n",
      "Robocar X Ray : 1,000,000+\n",
      "Space X: Sky Wars of Air Force : 1,000,000+\n",
      "Real Gangster Crime : 10,000,000+\n",
      "Experiment Z - Zombie : 10,000,000+\n",
      "Z Champions : 1,000,000+\n",
      "WithstandZ - Zombie Survival! : 1,000,000+\n",
      "DRAGON BALL Z DOKKAN BATTLE : 10,000,000+\n",
      "Cube Z (Pixel Zombies) : 1,000,000+\n",
      "Pixel Z Gunner 3D - Battle Survival Fps : 1,000,000+\n",
      "Mini DAYZ: Zombie Survival : 1,000,000+\n",
      "Angry Birds Star Wars : 100,000,000+\n",
      "AE Coin Mania : Arcade Fun : 1,000,000+\n",
      "Mupen64+AE FREE (N64 Emulator) : 1,000,000+\n",
      "AE Lucky Fishing : 1,000,000+\n",
      "AE Gun Ball: arcade ball games : 1,000,000+\n",
      "AE Master Moto : 1,000,000+\n",
      "Gun Strike Shoot : 10,000,000+\n",
      "Crisis Action: 2018 NO.1 FPS : 10,000,000+\n",
      "Counter Terrorist Attack : 10,000,000+\n",
      "Shoot Strike War Fire : 10,000,000+\n",
      "I Am Innocent : 1,000,000+\n",
      "Vikings: an Archer's Journey : 1,000,000+\n",
      "Draw a Stickman: EPIC Free : 10,000,000+\n",
      "Ao Oni2 : 1,000,000+\n",
      "Arena of Valor: 5v5 Arena Game : 10,000,000+\n",
      "Mobile Legends: Bang Bang : 100,000,000+\n",
      "Kill Shot Bravo: Sniper FPS : 10,000,000+\n",
      "Carnivores: Dinosaur Hunter : 1,000,000+\n",
      "Heroes Arena : 10,000,000+\n",
      "Iron Blade : 10,000,000+\n",
      "The Walking Dead: Our World : 1,000,000+\n",
      "Ingress : 10,000,000+\n",
      "Guns of Boom - Online Shooter : 10,000,000+\n",
      "Sonic the Hedgehog™ Classic : 10,000,000+\n",
      "My Boy! Free - GBA Emulator : 10,000,000+\n",
      "Five Nights at Freddy's 4 Demo : 10,000,000+\n",
      "Five Nights at Freddy's 3 Demo : 10,000,000+\n",
      "7 Nights at Pixel Pizzeria - 2 : 1,000,000+\n",
      "Au Mobile: Audition Chính Hiệu : 1,000,000+\n",
      "AU Mobile Indonesia : 1,000,000+\n",
      "Super Dancer : 1,000,000+\n",
      "Love Dance : 1,000,000+\n",
      "Avatar Musik : 1,000,000+\n",
      "Auction Wars : Storage King : 1,000,000+\n",
      "iSniper 3D Arctic Warfare : 1,000,000+\n",
      "Call of Duty®: Heroes : 10,000,000+\n",
      "The Vikings : 1,000,000+\n",
      "San Andreas Crime Stories : 10,000,000+\n",
      "Miami crime simulator : 10,000,000+\n",
      "Strange Hero: Future Battle : 10,000,000+\n",
      "Banana Kong : 100,000,000+\n",
      "Space Shooter : Galaxy Attack : 10,000,000+\n",
      "Beauty Idol: Fashion Queen : 1,000,000+\n",
      "Hard Time (Prison Sim) : 10,000,000+\n",
      "Battlefield™ Companion : 10,000,000+\n",
      "Bullet Force : 10,000,000+\n",
      "BF Frontline City : 1,000,000+\n",
      "Faketalk - Chatbot : 1,000,000+\n",
      "Block Gun 3D: Call of Destiny : 1,000,000+\n",
      "BLOOD & GLORY: IMMORTALS : 1,000,000+\n",
      "Rento - Dice Board Game Online : 10,000,000+\n",
      "Bike Rivals : 10,000,000+\n",
      "Bingo Party - Free Bingo Games : 1,000,000+\n",
      "BLACKJACK! : 10,000,000+\n",
      "Blackjack : 1,000,000+\n",
      "Skip-Bo™ Free : 1,000,000+\n",
      "Skater Boy : 100,000,000+\n",
      "Thai Sic Bo : 1,000,000+\n",
      "Bounce Classic : 10,000,000+\n",
      "Bomber Friends : 10,000,000+\n",
      "Carros Rebaixados BR : 1,000,000+\n",
      "True Skateboarding Ride Skateboard Game Freestyle : 1,000,000+\n",
      "Block Strike : 10,000,000+\n",
      "BombSquad Remote : 1,000,000+\n",
      "Super Jabber Jump : 10,000,000+\n",
      "Mini Motor Racing WRT : 1,000,000+\n",
      "Driving Zone : 1,000,000+\n",
      "Car Race by Fun Games For Free : 1,000,000+\n",
      "Slot Machines by IGG : 10,000,000+\n",
      "Voxel - 3D Color by Number & Pixel Coloring Book : 1,000,000+\n",
      "Sonic CD Classic : 1,000,000+\n",
      "Special Forces Group 2 : 10,000,000+\n",
      "CJ: Strike Back : 1,000,000+\n",
      "The Grand Wars: San Andreas : 1,000,000+\n",
      "Miami Crime Vice Town : 10,000,000+\n",
      "Grand Gangsters 3D : 10,000,000+\n",
      "Gang Wars of San Andreas : 1,000,000+\n",
      "Zombie Death Shooter : 1,000,000+\n",
      "CKZ ORIGINS : 1,000,000+\n",
      "Can Knockdown 3 : 10,000,000+\n",
      "Just A Regular Arcade : 1,000,000+\n",
      "Adventure Time Run : 1,000,000+\n",
      "StirFry Stunts - We Bare Bears : 10,000,000+\n",
      "Angelo Rules - Crazy day : 1,000,000+\n",
      "Multicraft Miner Exploration : 1,000,000+\n",
      "IV Go（get IV for Pokemon） : 1,000,000+\n",
      "Sniper Killer Shooter : 10,000,000+\n",
      "Critical Strike CS: Counter Terrorist Online FPS : 1,000,000+\n",
      "Assault Line CS Online Fps Go : 1,000,000+\n",
      "Standoff 2 : 10,000,000+\n",
      "Shooter Sniper CS - FPS Games : 1,000,000+\n",
      "Counter Attack - Multiplayer FPS : 1,000,000+\n",
      "Moto Rider : 10,000,000+\n",
      "Shadow Fight 2 : 100,000,000+\n",
      "Crazy Wheels : 10,000,000+\n",
      "Shadowverse CCG : 1,000,000+\n",
      "Dan the Man: Action Platformer : 10,000,000+\n",
      "Geometry Dash SubZero : 10,000,000+\n",
      "Metal Soldiers 2 : 10,000,000+\n",
      "Run Sausage Run! : 10,000,000+\n",
      "Knife Hit : 10,000,000+\n",
      "Just Dance Now : 10,000,000+\n",
      "Injustice: Gods Among Us : 10,000,000+\n",
      "Justice League Action Run : 1,000,000+\n",
      "MARVEL Avengers Academy : 10,000,000+\n",
      "Power Rangers: Legacy Wars : 10,000,000+\n",
      "WDAMAGE: Car Crash Engine : 1,000,000+\n",
      "Word Search multilingual : 1,000,000+\n",
      "Truck Driver Cargo : 10,000,000+\n",
      "Checkers : 10,000,000+\n",
      "Scratch Logo Quiz. Challenging brain puzzle : 10,000,000+\n",
      "Destroy Gunners Σ : 1,000,000+\n",
      "DH Texas Poker - Texas Hold'em : 10,000,000+\n",
      "Call of Mini™ Dino Hunter : 10,000,000+\n",
      "Bike Mayhem Free : 10,000,000+\n",
      "Defender : 10,000,000+\n",
      "Texas HoldEm Poker Deluxe : 10,000,000+\n",
      "Deck Heroes: Legacy : 10,000,000+\n",
      "Shred! Downhill Mountainbiking : 1,000,000+\n",
      "Fancy Pants Adventures : 1,000,000+\n",
      "Robbery Bob : 10,000,000+\n",
      "Nyan Cat: Lost In Space : 10,000,000+\n",
      "Kung Fu Do Fighting : 10,000,000+\n",
      "Dude Perfect 2 : 10,000,000+\n",
      "Bunny Skater : 10,000,000+\n",
      "The Walking Zombie: Dead City : 1,000,000+\n",
      "Dr. Driving 2 : 10,000,000+\n",
      "Dr. Parker : Parking Simulator : 1,000,000+\n",
      "Dr. Parker : Real car parking simulation : 1,000,000+\n",
      "Dr. Rocket : 1,000,000+\n",
      "Dr. Chess : 1,000,000+\n",
      "Dr. Shogi : 1,000,000+\n",
      "NDS Emulator - For Android 6 : 1,000,000+\n",
      "Free DS Emulator : 1,000,000+\n",
      "nds4droid : 10,000,000+\n",
      "RetroArch : 1,000,000+\n",
      "Street Skater 3D : 10,000,000+\n",
      "Heroes of Dragon Age : 1,000,000+\n",
      "Asphalt Xtreme: Rally Racing : 10,000,000+\n",
      "Modern Combat 5: eSports FPS : 100,000,000+\n",
      "Gear.Club - True Racing : 1,000,000+\n",
      "LA Stories 4 New Order Sandbox 2018 : 1,000,000+\n",
      "L.A. Crime Stories Mad City Crime : 1,000,000+\n",
      "Miraculous Ladybug & Cat Noir - The Official Game : 10,000,000+\n",
      "Horror Hospital : 1,000,000+\n",
      "Mad Skills Motocross : 1,000,000+\n",
      "Pineapple Pen : 10,000,000+\n",
      "Zombie Frontier : 10,000,000+\n",
      "Let's Poke The Egg : 1,000,000+\n",
      "Survival: Prison Escape : 10,000,000+\n",
      "TAMAGO Monsters Returns : 1,000,000+\n",
      "Traffic Sniper Counter Attack : 1,000,000+\n",
      "Rope Superhero Unlimited : 1,000,000+\n",
      "Extreme Super Car Driving 3D : 1,000,000+\n",
      "Fast Racing Car Simulator : 1,000,000+\n",
      "Stickman Warriors Heroes 2 : 1,000,000+\n",
      "Train Racing Games 3D 2 Player : 10,000,000+\n",
      "Fernanfloo : 10,000,000+\n",
      "Red Hands – 2-Player Games : 10,000,000+\n",
      "Live Hold’em Pro Poker - Free Casino Games : 10,000,000+\n",
      "PlayTexas Hold'em Poker Free : 1,000,000+\n",
      "Texas Hold'em Poker : 1,000,000+\n",
      "Dragonplay™ Poker Texas Holdem : 1,000,000+\n",
      "Boyaa Poker (En) – Social Texas Hold’em : 1,000,000+\n",
      "World Series of Poker – WSOP Free Texas Holdem : 10,000,000+\n",
      "Texas Holdem Poker : 10,000,000+\n",
      "Big Fish Casino – Play Slots & Vegas Games : 10,000,000+\n",
      "TRANSFORMERS: Forged to Fight : 10,000,000+\n",
      "Texas Holdem & Omaha Poker: Pokerist : 10,000,000+\n",
      "Squadron - Bullet Hell Shooter : 10,000,000+\n",
      "Words With Friends – Play Free : 10,000,000+\n",
      "The Visitor: Ep.2 - Sleepover Slaughter : 1,000,000+\n",
      "Speed Racing Ultimate 2 : 1,000,000+\n",
      "Water Surfer Racing In Moto : 1,000,000+\n",
      "Bike Race - Bike Blast Rush : 10,000,000+\n",
      "Eyes - The Scary Horror Game Adventure : 10,000,000+\n",
      "Sudoku Master : 1,000,000+\n",
      "Jungle Monkey Run : 10,000,000+\n",
      "FaFaFa™ Gold Casino: Free slot machines : 1,000,000+\n"
     ]
    },
    {
     "name": "stdout",
     "output_type": "stream",
     "text": [
      "Heart of Vegas™ Slots – Free Slot Casino Games : 10,000,000+\n",
      "Garena Free Fire : 100,000,000+\n",
      "BROTHER IN WARS: GUNNER CITY WARLORDS : 1,000,000+\n",
      "Police Car Driver : 10,000,000+\n",
      "Moto Fighter 3D : 10,000,000+\n",
      "Fields of Battle : 1,000,000+\n",
      "Family Guy The Quest for Stuff : 10,000,000+\n",
      "SnowMobile Parking Adventure : 1,000,000+\n",
      "Fast Motorcycle Driver 2016 : 1,000,000+\n",
      "Rope Hero: Vice Town : 10,000,000+\n",
      "Motocross Mayhem : 1,000,000+\n",
      "Block Gun 3D: Haunted Hollow : 1,000,000+\n",
      "Navy Gunner Shoot War 3D : 10,000,000+\n",
      "Drift Legends : 1,000,000+\n",
      "FRONTLINE COMMANDO : 10,000,000+\n",
      "Gun Builder ELITE : 1,000,000+\n",
      "Magnum 3.0 Gun Custom SImulator : 1,000,000+\n",
      "Gun Club Armory : 1,000,000+\n",
      "4x4 Jeep Racer : 1,000,000+\n",
      "Frontline Terrorist Battle Shoot: Free FPS Shooter : 1,000,000+\n",
      "Modern Strike Online : 10,000,000+\n",
      "Big Hunter : 10,000,000+\n",
      "Soccer Clubs Logo Quiz : 1,000,000+\n",
      "Fatal Raid - No.1 Mobile FPS : 1,000,000+\n"
     ]
    }
   ],
   "source": [
    "for app in android_master:\n",
    "    if app[1] == 'GAME' and (app[5] == '1,000,000,000+'\n",
    "                                      or app[5] == '500,000,000+'\n",
    "                                      or app[5] == '100,000,000+'\n",
    "                                      or app[5] == '10,000,000+'\n",
    "                                      or app[5] == '1,000,000+'):\n",
    "        print(app[0], ':', app[5])"
   ]
  },
  {
   "cell_type": "markdown",
   "metadata": {},
   "source": [
    "The number of games with over a million downloads on the Android Google Play Store is impressive, and proof that this market is full of potential, even for non AAA-type of games.\n",
    "\n",
    "## Conclusion\n",
    "\n",
    "Our suggested niche is based on \"Getting Smarter\" or puzzle sort of games, often with an IQ related branding. \n",
    "These games often suceed at gathering 100'000+ downloads, even if they have a cheap feel, examples [here](https://play.google.com/store/apps/details?id=com.pixign.smart.puzzles), [here](https://play.google.com/store/apps/details?id=com.easybrain.brain.test.easy.game&hl=en&gl=US), [here](https://play.google.com/store/apps/details?id=com.mind.quiz.brain.out), [and here](https://play.google.com/store/apps/details?id=net.rention.mind.skillz). These apps were all found on the front page of the `Top Rated Puzzle Games` section! \n",
    "\n",
    "The more profitable and sucessfull apps could be swiftly ported over to IOS, as they were proved to be a successful niche on that platform as well.\n",
    "\n",
    "Users will use these apps much longer than weather apps for example, and furthermore most ads for these games have a cheap look to it and it even creates an appeal for such games. \n",
    "\n",
    "\n",
    "\n",
    "\n",
    "\n",
    "\n"
   ]
  }
 ],
 "metadata": {
  "kernelspec": {
   "display_name": "Python 3",
   "language": "python",
   "name": "python3"
  },
  "language_info": {
   "codemirror_mode": {
    "name": "ipython",
    "version": 3
   },
   "file_extension": ".py",
   "mimetype": "text/x-python",
   "name": "python",
   "nbconvert_exporter": "python",
   "pygments_lexer": "ipython3",
   "version": "3.8.5"
  }
 },
 "nbformat": 4,
 "nbformat_minor": 4
}
